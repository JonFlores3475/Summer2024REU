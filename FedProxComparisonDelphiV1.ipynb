{
 "cells": [
  {
   "cell_type": "code",
   "execution_count": 53,
   "id": "0c716c34-38c3-4d74-8c14-ee11f475f4d2",
   "metadata": {},
   "outputs": [],
   "source": [
    "import pandas as pd\n",
    "import numpy as np"
   ]
  },
  {
   "cell_type": "code",
   "execution_count": 54,
   "id": "3332b111-1294-43fa-8f40-ffc93aa85723",
   "metadata": {},
   "outputs": [],
   "source": [
    "Accuracy = pd.read_csv('data/label_skew/None/fl_mnist/Weight/FedProx/FedProxBenign/in_domain_mean_acc.csv')"
   ]
  },
  {
   "cell_type": "code",
   "execution_count": 55,
   "id": "2185f2c5-4eba-4b95-ae9f-2692a21bedf1",
   "metadata": {},
   "outputs": [],
   "source": [
    "meanAccuracy = Accuracy.mean(axis=1)"
   ]
  },
  {
   "cell_type": "code",
   "execution_count": 56,
   "id": "248dde47-45fd-4fc4-a5ee-6fa817dac0db",
   "metadata": {},
   "outputs": [
    {
     "name": "stdout",
     "output_type": "stream",
     "text": [
      "0    98.7982\n",
      "dtype: float64\n"
     ]
    }
   ],
   "source": [
    "print(meanAccuracy)"
   ]
  },
  {
   "cell_type": "code",
   "execution_count": 57,
   "id": "af655e2f-a926-4d6f-8d56-1e43a9315f1e",
   "metadata": {},
   "outputs": [],
   "source": [
    "AccuracyDelphiPairFlip = pd.read_csv('data/label_skew/PairFlip/fl_mnist/Weight/DelphiflZeroTrust/DelphiZeroTrustVersion1Seed123Pairflip/in_domain_mean_acc.csv')"
   ]
  },
  {
   "cell_type": "code",
   "execution_count": 58,
   "id": "f8f8199e-0391-4f33-b11c-4e7bb2ca4d60",
   "metadata": {},
   "outputs": [],
   "source": [
    "diffPair = Accuracy - AccuracyDelphiPairFlip"
   ]
  },
  {
   "cell_type": "code",
   "execution_count": 59,
   "id": "f9882dfd-3698-44fe-9490-22c156392615",
   "metadata": {},
   "outputs": [],
   "source": [
    "meanDiffDelphiPairFlip = diffPair.mean(axis=1)"
   ]
  },
  {
   "cell_type": "code",
   "execution_count": 60,
   "id": "dd9225c3-6c13-401e-9d17-727afcb34906",
   "metadata": {},
   "outputs": [
    {
     "name": "stdout",
     "output_type": "stream",
     "text": [
      "0    1.1166\n",
      "dtype: float64\n"
     ]
    }
   ],
   "source": [
    "print(meanDiffDelphiPairFlip)"
   ]
  },
  {
   "cell_type": "code",
   "execution_count": 61,
   "id": "fd65c72f-77f8-4629-ac16-ca8d6a9fce34",
   "metadata": {},
   "outputs": [],
   "source": [
    "AccuracyDelphiSymFlip = pd.read_csv('data/label_skew/SymFlip/fl_mnist/Weight/DelphiflZeroTrust/DelphiflZeroTrustSymFlipSeed123/in_domain_mean_acc.csv')"
   ]
  },
  {
   "cell_type": "code",
   "execution_count": 62,
   "id": "c9518c34-aef9-4be5-80e0-048ec8dbc765",
   "metadata": {},
   "outputs": [],
   "source": [
    "diffSym = Accuracy - AccuracyDelphiSymFlip"
   ]
  },
  {
   "cell_type": "code",
   "execution_count": 63,
   "id": "5d4cb656-6c79-4f72-b0fc-c853e3d182b7",
   "metadata": {},
   "outputs": [],
   "source": [
    "meanDiffDelphiSymFlip = diffSym.mean(axis=1)"
   ]
  },
  {
   "cell_type": "code",
   "execution_count": 64,
   "id": "ecc49f8c-3c90-43ea-9e4a-56dde2048f9b",
   "metadata": {},
   "outputs": [
    {
     "name": "stdout",
     "output_type": "stream",
     "text": [
      "0    1.0993\n",
      "dtype: float64\n"
     ]
    }
   ],
   "source": [
    "print(meanDiffDelphiSymFlip)"
   ]
  },
  {
   "cell_type": "code",
   "execution_count": 65,
   "id": "5c3041dc-62a7-4d26-9a1a-cbe4c2ddd2bd",
   "metadata": {},
   "outputs": [],
   "source": [
    "AccuracyDelphiLieAttack = pd.read_csv('data/label_skew/lie_attack/fl_mnist/Weight/DelphiflZeroTrust/DelphiflZeroTrustLieAttackSeed123/in_domain_mean_acc.csv')"
   ]
  },
  {
   "cell_type": "code",
   "execution_count": 66,
   "id": "fb828b3a-3d56-4c52-ac48-d8a06f553298",
   "metadata": {},
   "outputs": [],
   "source": [
    "diffLieAttack = Accuracy - AccuracyDelphiLieAttack"
   ]
  },
  {
   "cell_type": "code",
   "execution_count": 67,
   "id": "789ca392-1d27-4af1-bff7-0391a8e25f38",
   "metadata": {},
   "outputs": [],
   "source": [
    "meanDiffLieAttack = diffLieAttack.mean(axis=1)"
   ]
  },
  {
   "cell_type": "code",
   "execution_count": 68,
   "id": "2456710a-fdd2-42cf-adb2-a3f4c900990a",
   "metadata": {},
   "outputs": [
    {
     "name": "stdout",
     "output_type": "stream",
     "text": [
      "0    1.1971\n",
      "dtype: float64\n"
     ]
    }
   ],
   "source": [
    "print(meanDiffLieAttack)"
   ]
  },
  {
   "cell_type": "code",
   "execution_count": 69,
   "id": "3891e511-d24b-44cf-b6c2-410e39e9aafb",
   "metadata": {},
   "outputs": [],
   "source": [
    "AccuracyDelphiMinMax = pd.read_csv('data/label_skew/min_max/fl_mnist/Weight/DelphiflZeroTrust/DelphiflZeroTrustMinMaxSeed123/in_domain_mean_acc.csv')"
   ]
  },
  {
   "cell_type": "code",
   "execution_count": 70,
   "id": "9b6d761e-75f3-4c77-b7b7-c094542033fa",
   "metadata": {},
   "outputs": [],
   "source": [
    "diffMinMax = Accuracy - AccuracyDelphiMinMax"
   ]
  },
  {
   "cell_type": "code",
   "execution_count": 71,
   "id": "8e8c0d5e-b62a-4c19-a26f-e558347f7e0c",
   "metadata": {},
   "outputs": [],
   "source": [
    "meanDiffMinMax = diffMinMax.mean(axis=1)"
   ]
  },
  {
   "cell_type": "code",
   "execution_count": 72,
   "id": "d89de7f1-bae1-4d06-8e97-b6efda6bbd95",
   "metadata": {},
   "outputs": [
    {
     "name": "stdout",
     "output_type": "stream",
     "text": [
      "0    1.1792\n",
      "dtype: float64\n"
     ]
    }
   ],
   "source": [
    "print(meanDiffMinMax)"
   ]
  },
  {
   "cell_type": "code",
   "execution_count": 73,
   "id": "ce36da06-f975-49d6-bb07-85daece63c29",
   "metadata": {},
   "outputs": [],
   "source": [
    "AccuracyDelphiMinSum = pd.read_csv('data/label_skew/min_sum/fl_mnist/Weight/DelphiflZeroTrust/DelphiflZeroTrustMinSumSeed123/in_domain_mean_acc.csv')"
   ]
  },
  {
   "cell_type": "code",
   "execution_count": 74,
   "id": "5be9b0f9-8361-4c27-ae1e-ff8a0e1a0db9",
   "metadata": {},
   "outputs": [],
   "source": [
    "diffMinSum = Accuracy - AccuracyDelphiMinSum"
   ]
  },
  {
   "cell_type": "code",
   "execution_count": 75,
   "id": "be7d9e01-c2e8-4300-b07a-4ef50ae5e457",
   "metadata": {},
   "outputs": [],
   "source": [
    "meanDiffMinSum = diffMinSum.mean(axis=1)"
   ]
  },
  {
   "cell_type": "code",
   "execution_count": 76,
   "id": "6c17ea43-e926-4726-9c08-0b46c62dad5b",
   "metadata": {},
   "outputs": [
    {
     "name": "stdout",
     "output_type": "stream",
     "text": [
      "0    1.1524\n",
      "dtype: float64\n"
     ]
    }
   ],
   "source": [
    "print(meanDiffMinSum)"
   ]
  },
  {
   "cell_type": "code",
   "execution_count": 77,
   "id": "ad40fa22-007a-41d1-b7d9-4704379881a1",
   "metadata": {},
   "outputs": [],
   "source": [
    "AccuracyDelphiRandomNoise =pd.read_csv('data/label_skew/RandomNoise/fl_mnist/Weight/DelphiflZeroTrust/DelphiflZeroTrustRandomNoiseSeed123/in_domain_mean_acc.csv')"
   ]
  },
  {
   "cell_type": "code",
   "execution_count": 78,
   "id": "c1e2cdb0-506d-4698-998c-2660aa086f50",
   "metadata": {},
   "outputs": [],
   "source": [
    "diffRandomNoise = Accuracy - AccuracyDelphiRandomNoise"
   ]
  },
  {
   "cell_type": "code",
   "execution_count": 79,
   "id": "a332c9ee-3a72-408b-9637-37c3f1fc2c45",
   "metadata": {},
   "outputs": [],
   "source": [
    "meanDiffRandomNoise = diffRandomNoise.mean(axis=1)"
   ]
  },
  {
   "cell_type": "code",
   "execution_count": 80,
   "id": "f3206f89-2a48-4c22-ae1f-3b9972947b71",
   "metadata": {},
   "outputs": [
    {
     "name": "stdout",
     "output_type": "stream",
     "text": [
      "0    1.247\n",
      "dtype: float64\n"
     ]
    }
   ],
   "source": [
    "print(meanDiffRandomNoise)"
   ]
  },
  {
   "cell_type": "code",
   "execution_count": 81,
   "id": "8c921b19-74ab-4e3b-86d5-610947474b7c",
   "metadata": {},
   "outputs": [],
   "source": [
    "AccuracySneakyRandom1 = pd.read_csv('data/label_skew/sneaky_random/fl_mnist/Weight/DelphiflZeroTrust/DelphiflZeroTrustSneakyRandomSeed123/in_domain_mean_acc.csv') "
   ]
  },
  {
   "cell_type": "code",
   "execution_count": 82,
   "id": "3f812f79-54e7-4e22-b4fd-368944be6469",
   "metadata": {},
   "outputs": [],
   "source": [
    "diffSneakyRandom1 = Accuracy - AccuracySneakyRandom1"
   ]
  },
  {
   "cell_type": "code",
   "execution_count": 83,
   "id": "fc5561dd-046f-43d8-b978-f0660c0fa514",
   "metadata": {},
   "outputs": [],
   "source": [
    "meanDiffSneakyRandom1 = diffSneakyRandom1.mean(axis=1)"
   ]
  },
  {
   "cell_type": "code",
   "execution_count": 84,
   "id": "c8f4aa99-c60b-4073-8c28-0afee8024b66",
   "metadata": {},
   "outputs": [
    {
     "name": "stdout",
     "output_type": "stream",
     "text": [
      "0    1.2323\n",
      "dtype: float64\n"
     ]
    }
   ],
   "source": [
    "print(meanDiffSneakyRandom1)"
   ]
  },
  {
   "cell_type": "code",
   "execution_count": 85,
   "id": "618e9a8b-9396-4f50-986b-071aa83409d3",
   "metadata": {},
   "outputs": [],
   "source": [
    "AccuracySneakyRandom3 = pd.read_csv('data/label_skew/sneaky_random3/fl_mnist/Weight/DelphiflZeroTrust/DelphiflZeroTrustSneakyRandom3Seed123/in_domain_mean_acc.csv')"
   ]
  },
  {
   "cell_type": "code",
   "execution_count": 86,
   "id": "8b01f630-6c14-456b-a6f1-1a2906daf684",
   "metadata": {},
   "outputs": [],
   "source": [
    "diffSneakyRandom3 = Accuracy - AccuracySneakyRandom3"
   ]
  },
  {
   "cell_type": "code",
   "execution_count": 87,
   "id": "7eb1cb1b-f711-4877-8561-801cb713c2b0",
   "metadata": {},
   "outputs": [],
   "source": [
    "meanDiffSneakyRandom3 = diffSneakyRandom3.mean(axis=1)"
   ]
  },
  {
   "cell_type": "code",
   "execution_count": 88,
   "id": "f4ab1e6d-d1a8-4d07-820c-4f592f4087ca",
   "metadata": {},
   "outputs": [
    {
     "name": "stdout",
     "output_type": "stream",
     "text": [
      "0    1.0745\n",
      "dtype: float64\n"
     ]
    }
   ],
   "source": [
    "print(meanDiffSneakyRandom3)"
   ]
  },
  {
   "cell_type": "code",
   "execution_count": 89,
   "id": "8fc4c99e-c57d-422f-b75c-784041d8cc89",
   "metadata": {},
   "outputs": [],
   "source": [
    "AccuracySneakyRandom4 = pd.read_csv('data/label_skew/sneaky_random4/fl_mnist/Weight/DelphiflZeroTrust/DelphiflZeroTrustSneakyRandom4Seed123/in_domain_mean_acc.csv')"
   ]
  },
  {
   "cell_type": "code",
   "execution_count": 90,
   "id": "57cce9c6-7f3f-416d-a2bc-12c451844ab9",
   "metadata": {},
   "outputs": [],
   "source": [
    "diffSneakyRandom4 = Accuracy - AccuracySneakyRandom4"
   ]
  },
  {
   "cell_type": "code",
   "execution_count": 91,
   "id": "224b074e-9a96-48b2-98b5-424058fecdd4",
   "metadata": {},
   "outputs": [],
   "source": [
    "meanDiffSneakyRandom4 = diffSneakyRandom4.mean(axis=1)"
   ]
  },
  {
   "cell_type": "code",
   "execution_count": 92,
   "id": "5d41ced5-cf57-4051-b8e7-7c8c0bbec85a",
   "metadata": {},
   "outputs": [
    {
     "name": "stdout",
     "output_type": "stream",
     "text": [
      "0    0.8478\n",
      "dtype: float64\n"
     ]
    }
   ],
   "source": [
    "print(meanDiffSneakyRandom4)"
   ]
  },
  {
   "cell_type": "code",
   "execution_count": 93,
   "id": "b0aacfb4-c991-4dc9-aa36-23785e05b42c",
   "metadata": {},
   "outputs": [],
   "source": [
    "AccuracyInvertedGradient = pd.read_csv('data/label_skew/inverted_gradient/fl_mnist/Weight/DelphiflZeroTrust/DelphiflZeroTrustInvertedGradientSeed123/in_domain_mean_acc.csv')"
   ]
  },
  {
   "cell_type": "code",
   "execution_count": 94,
   "id": "56bfcc88-18eb-4fc5-94ac-e822793e440e",
   "metadata": {},
   "outputs": [],
   "source": [
    "diffInvertedGradient = Accuracy - AccuracyInvertedGradient"
   ]
  },
  {
   "cell_type": "code",
   "execution_count": 95,
   "id": "38efcd91-3d49-48c2-88d5-b3562ac898c8",
   "metadata": {},
   "outputs": [],
   "source": [
    "meanDiffInvertedGradient = diffInvertedGradient.mean(axis=1)"
   ]
  },
  {
   "cell_type": "code",
   "execution_count": 96,
   "id": "a2e0da33-4f89-4ac4-ac2d-e649ce1fbfb0",
   "metadata": {},
   "outputs": [
    {
     "name": "stdout",
     "output_type": "stream",
     "text": [
      "0    1.7415\n",
      "dtype: float64\n"
     ]
    }
   ],
   "source": [
    "print(meanDiffInvertedGradient)"
   ]
  },
  {
   "cell_type": "code",
   "execution_count": 97,
   "id": "8be808bc-2ed8-450f-a2ec-d56f41947eef",
   "metadata": {},
   "outputs": [],
   "source": [
    "AccuracyGaussImages = pd.read_csv('data/label_skew/gaus_images/fl_mnist/Weight/DelphiflZeroTrust/DelphiflZeroTrustGausImagesSeed123/in_domain_mean_acc.csv')"
   ]
  },
  {
   "cell_type": "code",
   "execution_count": 98,
   "id": "27d3818c-e96e-4bcc-8d4d-64be3e4f61be",
   "metadata": {},
   "outputs": [],
   "source": [
    "diffGaussImages = Accuracy - AccuracyGaussImages"
   ]
  },
  {
   "cell_type": "code",
   "execution_count": 99,
   "id": "b2a12401-430d-4979-814b-ea8c18dd68d6",
   "metadata": {},
   "outputs": [],
   "source": [
    "meanDiffGaussImages = diffGaussImages.mean(axis=1)"
   ]
  },
  {
   "cell_type": "code",
   "execution_count": 100,
   "id": "4d8e408f-94a5-4785-8f7a-a1480f03a23a",
   "metadata": {},
   "outputs": [
    {
     "name": "stdout",
     "output_type": "stream",
     "text": [
      "0    1.594\n",
      "dtype: float64\n"
     ]
    }
   ],
   "source": [
    "print(meanDiffGaussImages)"
   ]
  },
  {
   "cell_type": "code",
   "execution_count": 101,
   "id": "76e5dbb4-88a4-4530-99e4-3b0fb10386a8",
   "metadata": {},
   "outputs": [],
   "source": [
    "AccuracySneakyRandom2 = pd.read_csv('data/label_skew/sneaky_random2/fl_mnist/Weight/DelphiflZeroTrust/DelphiflZeroTrustSneakyRandom2Seed123/in_domain_mean_acc.csv')"
   ]
  },
  {
   "cell_type": "code",
   "execution_count": 102,
   "id": "2e06cff9-1702-436d-95b8-76989f75665f",
   "metadata": {},
   "outputs": [],
   "source": [
    "diffSneakyRandom2 = Accuracy - AccuracySneakyRandom2"
   ]
  },
  {
   "cell_type": "code",
   "execution_count": 103,
   "id": "caa41d72-7f07-47ee-bc64-258dc7b49c60",
   "metadata": {},
   "outputs": [],
   "source": [
    "meanDiffSneakyRandom2 = diffSneakyRandom2.mean(axis=1)"
   ]
  },
  {
   "cell_type": "code",
   "execution_count": 104,
   "id": "6b906b39-85eb-433c-899e-a486cd69106b",
   "metadata": {},
   "outputs": [
    {
     "name": "stdout",
     "output_type": "stream",
     "text": [
      "0    1.4298\n",
      "dtype: float64\n"
     ]
    }
   ],
   "source": [
    "print(meanDiffSneakyRandom2)"
   ]
  },
  {
   "cell_type": "code",
   "execution_count": 105,
   "id": "58456b6e-09d1-43e9-8eee-5b4104bc1088",
   "metadata": {},
   "outputs": [],
   "source": [
    "AccuracyAtropos= pd.read_csv('data/label_skew/inverted_gradient/fl_mnist/Weight/DelphiflZeroTrust/DelphiZeroTrustAtroposSeed123/in_domain_mean_acc.csv')"
   ]
  },
  {
   "cell_type": "code",
   "execution_count": 106,
   "id": "70a177e6-952c-47cd-a371-c92959db80b8",
   "metadata": {},
   "outputs": [],
   "source": [
    "diffAtropos = Accuracy - AccuracyAtropos"
   ]
  },
  {
   "cell_type": "code",
   "execution_count": 107,
   "id": "153a08a2-7aa5-4925-9f0f-0d3cb9f89832",
   "metadata": {},
   "outputs": [],
   "source": [
    "meanDiffAtropos = diffAtropos.mean(axis=1)"
   ]
  },
  {
   "cell_type": "code",
   "execution_count": 108,
   "id": "de4497f9-9dab-4ed7-b40d-e92a28bf6c4a",
   "metadata": {},
   "outputs": [
    {
     "name": "stdout",
     "output_type": "stream",
     "text": [
      "0    1.8267\n",
      "dtype: float64\n"
     ]
    }
   ],
   "source": [
    "print(meanDiffAtropos)"
   ]
  },
  {
   "cell_type": "code",
   "execution_count": null,
   "id": "14bd6afe-77b2-4582-a155-2bd63885c6fb",
   "metadata": {},
   "outputs": [],
   "source": []
  },
  {
   "cell_type": "code",
   "execution_count": null,
   "id": "6a720fa8-5558-470b-ae2f-b9ef85d9e325",
   "metadata": {},
   "outputs": [],
   "source": []
  },
  {
   "cell_type": "code",
   "execution_count": null,
   "id": "f569bad5-6a10-496c-98dc-28ef38cebd81",
   "metadata": {},
   "outputs": [],
   "source": []
  },
  {
   "cell_type": "code",
   "execution_count": null,
   "id": "bbda4523-5fcf-4fed-99a0-5f46f9ff6ed2",
   "metadata": {},
   "outputs": [],
   "source": []
  },
  {
   "cell_type": "code",
   "execution_count": null,
   "id": "8e12d671-187f-4449-9788-9c02822c3b18",
   "metadata": {},
   "outputs": [],
   "source": []
  },
  {
   "cell_type": "code",
   "execution_count": null,
   "id": "69997e87-43c6-4415-8ccd-48f842354fc3",
   "metadata": {},
   "outputs": [],
   "source": []
  },
  {
   "cell_type": "code",
   "execution_count": null,
   "id": "98e462a7-76ba-47bd-ab9d-0dfd66aec896",
   "metadata": {},
   "outputs": [],
   "source": []
  },
  {
   "cell_type": "code",
   "execution_count": null,
   "id": "93a40bba-96a2-4689-b150-f3f649b8abc3",
   "metadata": {},
   "outputs": [],
   "source": []
  },
  {
   "cell_type": "code",
   "execution_count": null,
   "id": "817caa01-49fb-4fc6-904b-a77e41f9bf10",
   "metadata": {},
   "outputs": [],
   "source": []
  },
  {
   "cell_type": "code",
   "execution_count": null,
   "id": "ba7eec8b-26fb-4281-90fe-ddce9ab48963",
   "metadata": {},
   "outputs": [],
   "source": []
  },
  {
   "cell_type": "code",
   "execution_count": null,
   "id": "3f01ccdd-3760-4d6b-99a2-c47e26f2226b",
   "metadata": {},
   "outputs": [],
   "source": []
  },
  {
   "cell_type": "code",
   "execution_count": null,
   "id": "4bd495c4-40e7-4ee1-b179-4285a62cb1c1",
   "metadata": {},
   "outputs": [],
   "source": []
  }
 ],
 "metadata": {
  "kernelspec": {
   "display_name": "Climate",
   "language": "python",
   "name": "climate"
  },
  "language_info": {
   "codemirror_mode": {
    "name": "ipython",
    "version": 3
   },
   "file_extension": ".py",
   "mimetype": "text/x-python",
   "name": "python",
   "nbconvert_exporter": "python",
   "pygments_lexer": "ipython3",
   "version": "3.12.3"
  }
 },
 "nbformat": 4,
 "nbformat_minor": 5
}
