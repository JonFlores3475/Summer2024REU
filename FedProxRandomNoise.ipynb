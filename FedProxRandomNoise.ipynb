{
 "cells": [
  {
   "cell_type": "code",
   "execution_count": 1,
   "id": "baddb20d-c06e-485a-aa45-87822d8e38a7",
   "metadata": {},
   "outputs": [],
   "source": [
    "import pandas as pd\n",
    "import numpy as np"
   ]
  },
  {
   "cell_type": "code",
   "execution_count": 2,
   "id": "756e7950-263c-4fe6-aa5b-94ddb3284fb2",
   "metadata": {},
   "outputs": [],
   "source": [
    "Accuracy = pd.read_csv('data/label_skew/RandomNoise/fl_mnist/Weight/FedProx/FedProxRandomNoiseSeed123/in_domain_mean_acc.csv')"
   ]
  },
  {
   "cell_type": "code",
   "execution_count": 3,
   "id": "7c5be988-6509-4889-96e5-4c5150b25d75",
   "metadata": {},
   "outputs": [],
   "source": [
    "meanAccuracy = Accuracy.mean(axis=1)"
   ]
  },
  {
   "cell_type": "code",
   "execution_count": 4,
   "id": "839c9e93-b3b5-4f11-aece-d8ce5405431a",
   "metadata": {},
   "outputs": [
    {
     "name": "stdout",
     "output_type": "stream",
     "text": [
      "0    98.1141\n",
      "dtype: float64\n"
     ]
    }
   ],
   "source": [
    "print(meanAccuracy)"
   ]
  },
  {
   "cell_type": "code",
   "execution_count": null,
   "id": "1fa8b0d7-175c-4f2a-a5e4-5987a61cec28",
   "metadata": {},
   "outputs": [],
   "source": []
  }
 ],
 "metadata": {
  "kernelspec": {
   "display_name": "Syl",
   "language": "python",
   "name": "climate"
  },
  "language_info": {
   "codemirror_mode": {
    "name": "ipython",
    "version": 3
   },
   "file_extension": ".py",
   "mimetype": "text/x-python",
   "name": "python",
   "nbconvert_exporter": "python",
   "pygments_lexer": "ipython3",
   "version": "3.12.4"
  }
 },
 "nbformat": 4,
 "nbformat_minor": 5
}
