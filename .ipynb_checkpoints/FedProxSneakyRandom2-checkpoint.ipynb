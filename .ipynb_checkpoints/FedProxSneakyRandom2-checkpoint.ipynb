{
 "cells": [
  {
   "cell_type": "code",
   "execution_count": 1,
   "id": "4f8a608c-ed3e-4219-959b-92fe53aa4389",
   "metadata": {},
   "outputs": [],
   "source": [
    "import pandas as pd\n",
    "import numpy as np"
   ]
  },
  {
   "cell_type": "code",
   "execution_count": 2,
   "id": "d2dcf75a-6e01-459e-8ab8-35561aefef50",
   "metadata": {},
   "outputs": [],
   "source": [
    "Accuracy = pd.read_csv('data/label_skew/sneaky_random2/fl_mnist/Weight/FedProx/FedProxSneakyRandom2Seed123/in_domain_mean_acc.csv')"
   ]
  },
  {
   "cell_type": "code",
   "execution_count": 3,
   "id": "ae674147-2d65-47ad-8941-9b34669d8152",
   "metadata": {},
   "outputs": [],
   "source": [
    "meanAccuracy = Accuracy.mean(axis=1)"
   ]
  },
  {
   "cell_type": "code",
   "execution_count": 4,
   "id": "ce7e1265-743a-40da-8f55-519d6a31638b",
   "metadata": {},
   "outputs": [
    {
     "name": "stdout",
     "output_type": "stream",
     "text": [
      "0    98.6753\n",
      "dtype: float64\n"
     ]
    }
   ],
   "source": [
    "print(meanAccuracy)"
   ]
  },
  {
   "cell_type": "code",
   "execution_count": null,
   "id": "5f4c6e46-2c90-44dd-b0f7-f5a9864b6812",
   "metadata": {},
   "outputs": [],
   "source": []
  }
 ],
 "metadata": {
  "kernelspec": {
   "display_name": "Climate",
   "language": "python",
   "name": "climate"
  },
  "language_info": {
   "codemirror_mode": {
    "name": "ipython",
    "version": 3
   },
   "file_extension": ".py",
   "mimetype": "text/x-python",
   "name": "python",
   "nbconvert_exporter": "python",
   "pygments_lexer": "ipython3",
   "version": "3.12.3"
  }
 },
 "nbformat": 4,
 "nbformat_minor": 5
}
