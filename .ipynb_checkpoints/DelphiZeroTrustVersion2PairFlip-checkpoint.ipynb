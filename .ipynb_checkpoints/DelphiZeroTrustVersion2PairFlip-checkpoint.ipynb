{
 "cells": [
  {
   "cell_type": "code",
   "execution_count": 1,
   "id": "43bd29b7-e30e-4904-8a5c-49144cab5305",
   "metadata": {},
   "outputs": [],
   "source": [
    "import pandas as pd\n",
    "import numpy as np"
   ]
  },
  {
   "cell_type": "code",
   "execution_count": 2,
   "id": "6941f984-cfd6-469f-9064-37956dcdbe90",
   "metadata": {},
   "outputs": [],
   "source": [
    "Accuracy = pd.read_csv('data/label_skew/PairFlip/fl_mnist/Weight/DelphiflZeroTrustV2/DelphiflZeroTrustV2PairFlipSeed123/in_domain_mean_acc.csv')"
   ]
  },
  {
   "cell_type": "code",
   "execution_count": 3,
   "id": "8c434ff0-37ed-4ea4-a6e4-079da9fbb076",
   "metadata": {},
   "outputs": [],
   "source": [
    "meanAccuracy = Accuracy.mean(axis=1)"
   ]
  },
  {
   "cell_type": "code",
   "execution_count": 4,
   "id": "a8c632e4-ab22-4052-909a-15c1028df363",
   "metadata": {},
   "outputs": [
    {
     "name": "stdout",
     "output_type": "stream",
     "text": [
      "0    97.6666\n",
      "dtype: float64\n"
     ]
    }
   ],
   "source": [
    "print(meanAccuracy)"
   ]
  },
  {
   "cell_type": "code",
   "execution_count": null,
   "id": "7c261a51-2d29-4d50-a94d-4ded4bf0f1bc",
   "metadata": {},
   "outputs": [],
   "source": []
  }
 ],
 "metadata": {
  "kernelspec": {
   "display_name": "Syl",
   "language": "python",
   "name": "climate"
  },
  "language_info": {
   "codemirror_mode": {
    "name": "ipython",
    "version": 3
   },
   "file_extension": ".py",
   "mimetype": "text/x-python",
   "name": "python",
   "nbconvert_exporter": "python",
   "pygments_lexer": "ipython3",
   "version": "3.12.4"
  }
 },
 "nbformat": 4,
 "nbformat_minor": 5
}
