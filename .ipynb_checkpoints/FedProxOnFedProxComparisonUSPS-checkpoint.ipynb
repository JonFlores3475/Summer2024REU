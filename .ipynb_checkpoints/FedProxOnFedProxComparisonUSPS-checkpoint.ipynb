{
 "cells": [
  {
   "cell_type": "code",
   "execution_count": 1,
   "id": "f0dda35e-9a7f-40c7-a055-32a723c23898",
   "metadata": {},
   "outputs": [],
   "source": [
    "import pandas as pd\n",
    "import numpy as np"
   ]
  },
  {
   "cell_type": "code",
   "execution_count": 2,
   "id": "4391b5b2-01ed-4255-820a-320c1c85e5c2",
   "metadata": {},
   "outputs": [],
   "source": [
    "Accuracy = pd.read_csv('data/label_skew/None/fl_usps/Weight/FedProx/FedProxNoAttackUSPSSeed123/in_domain_mean_acc.csv')"
   ]
  },
  {
   "cell_type": "code",
   "execution_count": 3,
   "id": "f462ea12-381e-477c-bd98-56fd8b9b93ef",
   "metadata": {},
   "outputs": [],
   "source": [
    "meanAccuracy = Accuracy.mean(axis=1)"
   ]
  },
  {
   "cell_type": "code",
   "execution_count": 4,
   "id": "651cd8e4-9639-4207-9a5d-7abcbcd1b785",
   "metadata": {},
   "outputs": [
    {
     "name": "stdout",
     "output_type": "stream",
     "text": [
      "0    95.2552\n",
      "dtype: float64\n"
     ]
    }
   ],
   "source": [
    "print(meanAccuracy)"
   ]
  },
  {
   "cell_type": "code",
   "execution_count": 5,
   "id": "c99ae863-12e5-4060-af87-bfb59c0780d5",
   "metadata": {},
   "outputs": [],
   "source": [
    "AccuracyLieAttack = pd.read_csv('data/label_skew/lie_attack/fl_usps/Weight/FedProx/FedProxLieAttackUSPSSeed123/in_domain_mean_acc.csv')"
   ]
  },
  {
   "cell_type": "code",
   "execution_count": 6,
   "id": "9aad8997-a813-4193-b30f-0896c3e8bdf2",
   "metadata": {},
   "outputs": [],
   "source": [
    "diffAccuracyLieAttack = Accuracy - AccuracyLieAttack"
   ]
  },
  {
   "cell_type": "code",
   "execution_count": 8,
   "id": "6c4f70e9-46f4-4e2b-ac52-33b6f2b9b931",
   "metadata": {},
   "outputs": [],
   "source": [
    "meanDiffAccuracyLieAttack = diffAccuracyLieAttack.mean(axis=1)"
   ]
  },
  {
   "cell_type": "code",
   "execution_count": 9,
   "id": "4b523e07-d81c-44c8-8dd1-a78d8fa20b99",
   "metadata": {},
   "outputs": [
    {
     "name": "stdout",
     "output_type": "stream",
     "text": [
      "0    9.8163\n",
      "dtype: float64\n"
     ]
    }
   ],
   "source": [
    "print(meanDiffAccuracyLieAttack)"
   ]
  },
  {
   "cell_type": "code",
   "execution_count": 10,
   "id": "3355e0c6-f189-4e8d-a5f4-c28aebb558e2",
   "metadata": {},
   "outputs": [],
   "source": [
    "AccuracyMinMax = pd.read_csv('data/label_skew/min_max/fl_usps/Weight/FedProx/FedProxMinMaxUSPSSeed123/in_domain_mean_acc.csv')"
   ]
  },
  {
   "cell_type": "code",
   "execution_count": 11,
   "id": "14b93125-5916-406f-aeec-6d7bd51888bd",
   "metadata": {},
   "outputs": [],
   "source": [
    "diffAccuracyMinMax = Accuracy - AccuracyMinMax"
   ]
  },
  {
   "cell_type": "code",
   "execution_count": 12,
   "id": "407d38ed-a7e8-4b80-81b9-83d85bab9e1f",
   "metadata": {},
   "outputs": [],
   "source": [
    "meanDiffAccuracyMinMax = diffAccuracyMinMax.mean(axis=1)"
   ]
  },
  {
   "cell_type": "code",
   "execution_count": 14,
   "id": "1aba4ed0-082e-4aa4-9d8e-e94e30c631ad",
   "metadata": {},
   "outputs": [
    {
     "name": "stdout",
     "output_type": "stream",
     "text": [
      "0    9.7888\n",
      "dtype: float64\n"
     ]
    }
   ],
   "source": [
    "print(meanDiffAccuracyMinMax)"
   ]
  },
  {
   "cell_type": "code",
   "execution_count": 15,
   "id": "76ce2b45-8c54-4a70-b968-b24fd10af331",
   "metadata": {},
   "outputs": [],
   "source": [
    "AccuracyMinSum = pd.read_csv('data/label_skew/min_sum/fl_usps/Weight/FedProx/FedProxMinSumUSPSSeed123/in_domain_mean_acc.csv')"
   ]
  },
  {
   "cell_type": "code",
   "execution_count": 16,
   "id": "53a2242a-f01c-43aa-8845-a77a9fcbd93b",
   "metadata": {},
   "outputs": [],
   "source": [
    "diffAccuracyMinSum = Accuracy - AccuracyMinSum"
   ]
  },
  {
   "cell_type": "code",
   "execution_count": 17,
   "id": "df9160f7-2935-4a56-9619-1747afd605da",
   "metadata": {},
   "outputs": [],
   "source": [
    "meanDiffAccuracyMinSum = diffAccuracyMinSum.mean(axis=1)"
   ]
  },
  {
   "cell_type": "code",
   "execution_count": 18,
   "id": "400a25e5-e0af-4b1e-adba-253e8c4228f7",
   "metadata": {},
   "outputs": [
    {
     "name": "stdout",
     "output_type": "stream",
     "text": [
      "0    9.6167\n",
      "dtype: float64\n"
     ]
    }
   ],
   "source": [
    "print(meanDiffAccuracyMinSum)"
   ]
  },
  {
   "cell_type": "code",
   "execution_count": 19,
   "id": "506b2a41-8a29-452e-8645-953c7b8e460e",
   "metadata": {},
   "outputs": [],
   "source": [
    "AccuracyPairFlip = pd.read_csv('data/label_skew/PairFlip/fl_usps/Weight/FedProx/FedProxPairFlipUSPSSeed123/in_domain_mean_acc.csv')"
   ]
  },
  {
   "cell_type": "code",
   "execution_count": 23,
   "id": "279a53a8-f242-46fc-ac28-5cbac715d0a4",
   "metadata": {},
   "outputs": [],
   "source": [
    "diffAccuracyPairFlip = Accuracy - AccuracyPairFlip"
   ]
  },
  {
   "cell_type": "code",
   "execution_count": 24,
   "id": "93100240-c46a-4eca-876b-af826ceb5c20",
   "metadata": {},
   "outputs": [],
   "source": [
    "meanDiffAccuracyPairFlip = diffAccuracyPairFlip.mean(axis=1)"
   ]
  },
  {
   "cell_type": "code",
   "execution_count": 25,
   "id": "ce69c9ec-ae5f-435a-a233-08b99ae83de7",
   "metadata": {},
   "outputs": [
    {
     "name": "stdout",
     "output_type": "stream",
     "text": [
      "0    0.2663\n",
      "dtype: float64\n"
     ]
    }
   ],
   "source": [
    "print(meanDiffAccuracyPairFlip)"
   ]
  },
  {
   "cell_type": "code",
   "execution_count": 26,
   "id": "a49ce068-b0ad-48d1-895e-5078ce5e27ea",
   "metadata": {},
   "outputs": [],
   "source": [
    "AccuracyRandomNoise = pd.read_csv('data/label_skew/RandomNoise/fl_usps/Weight/FedProx/FedProxRandomNoiseUSPSSeed123/in_domain_mean_acc.csv')"
   ]
  },
  {
   "cell_type": "code",
   "execution_count": 27,
   "id": "231094c0-b732-4d03-9ce5-fe85574e99dc",
   "metadata": {},
   "outputs": [],
   "source": [
    "diffAccuracyRandomNoise = Accuracy - AccuracyRandomNoise"
   ]
  },
  {
   "cell_type": "code",
   "execution_count": 28,
   "id": "1de82d8e-b8d2-44d2-a36b-b379943e710f",
   "metadata": {},
   "outputs": [],
   "source": [
    "meanDiffAccuracyRandomNoise = diffAccuracyRandomNoise.mean(axis=1)"
   ]
  },
  {
   "cell_type": "code",
   "execution_count": 29,
   "id": "c0d0fbf4-331c-4ce5-86f8-fc210cf7e913",
   "metadata": {},
   "outputs": [
    {
     "name": "stdout",
     "output_type": "stream",
     "text": [
      "0    7.45\n",
      "dtype: float64\n"
     ]
    }
   ],
   "source": [
    "print(meanDiffAccuracyRandomNoise)"
   ]
  },
  {
   "cell_type": "code",
   "execution_count": 30,
   "id": "5b564d01-d45a-4e16-8e17-2c64256f819a",
   "metadata": {},
   "outputs": [],
   "source": [
    "AccuracySneakyRandom = pd.read_csv('data/label_skew/sneaky_random/fl_usps/Weight/FedProx/FedProxSneakyRandomUSPSSeed123/in_domain_mean_acc.csv')"
   ]
  },
  {
   "cell_type": "code",
   "execution_count": 31,
   "id": "98c14e3a-2bdb-45c8-9037-d76d50227dd0",
   "metadata": {},
   "outputs": [],
   "source": [
    "diffAccuracySneakyRandom = Accuracy - AccuracySneakyRandom"
   ]
  },
  {
   "cell_type": "code",
   "execution_count": 32,
   "id": "dfa870f2-3fea-41cf-afdb-07715494e4ea",
   "metadata": {},
   "outputs": [],
   "source": [
    "meanDiffAccuracySneakyRandom = diffAccuracySneakyRandom.mean(axis=1)"
   ]
  },
  {
   "cell_type": "code",
   "execution_count": 33,
   "id": "22d87f48-dbca-4e1c-ab89-c0f3a9695f0a",
   "metadata": {},
   "outputs": [
    {
     "name": "stdout",
     "output_type": "stream",
     "text": [
      "0    0.4501\n",
      "dtype: float64\n"
     ]
    }
   ],
   "source": [
    "print(meanDiffAccuracySneakyRandom)"
   ]
  },
  {
   "cell_type": "code",
   "execution_count": 36,
   "id": "1949a02c-dbac-4a3d-86ee-efda81b1723f",
   "metadata": {},
   "outputs": [],
   "source": [
    "AccuracySymFlip = pd.read_csv('data/label_skew/SymFlip/fl_usps/Weight/FedProx/FedProxSymFlipUSPSSeed123/in_domain_mean_acc.csv')"
   ]
  },
  {
   "cell_type": "code",
   "execution_count": 37,
   "id": "2fd540ed-53f5-4308-980a-7e791a413358",
   "metadata": {},
   "outputs": [],
   "source": [
    "diffAccuracySymFlip = Accuracy - AccuracySymFlip"
   ]
  },
  {
   "cell_type": "code",
   "execution_count": 38,
   "id": "8f78b5b8-ce78-41b9-8b65-27b000a58614",
   "metadata": {},
   "outputs": [],
   "source": [
    "meanDiffAccuracySymFlip = diffAccuracySymFlip.mean(axis=1)"
   ]
  },
  {
   "cell_type": "code",
   "execution_count": 40,
   "id": "03759b06-dcbf-419c-84da-fc7c5282b205",
   "metadata": {},
   "outputs": [
    {
     "name": "stdout",
     "output_type": "stream",
     "text": [
      "0    0.8026\n",
      "dtype: float64\n"
     ]
    }
   ],
   "source": [
    "print(meanDiffAccuracySymFlip)"
   ]
  },
  {
   "cell_type": "code",
   "execution_count": 45,
   "id": "9b20e655-6471-4947-a7ab-731937aa1207",
   "metadata": {},
   "outputs": [],
   "source": [
    "AccuracyGaussImages= pd.read_csv('data/label_skew/gaus_images/fl_usps/Weight/FedProx/FedProxGausImagesUSPSSeed123/in_domain_mean_acc.csv')"
   ]
  },
  {
   "cell_type": "code",
   "execution_count": 46,
   "id": "de2f7ad5-9285-494a-8a2a-7ab8bed1f430",
   "metadata": {},
   "outputs": [],
   "source": [
    "diffAccuracyGaussImages = Accuracy - AccuracyGaussImages"
   ]
  },
  {
   "cell_type": "code",
   "execution_count": 47,
   "id": "22459ce7-42fc-48cc-aa76-dc4380b48afa",
   "metadata": {},
   "outputs": [],
   "source": [
    "meanDiffAccuracyGaussImages = diffAccuracyGaussImages.mean(axis=1)"
   ]
  },
  {
   "cell_type": "code",
   "execution_count": 48,
   "id": "ce01b779-a0bf-4db6-b6df-5dd065333404",
   "metadata": {},
   "outputs": [
    {
     "name": "stdout",
     "output_type": "stream",
     "text": [
      "0    1.983\n",
      "dtype: float64\n"
     ]
    }
   ],
   "source": [
    "print(meanDiffAccuracyGaussImages)"
   ]
  },
  {
   "cell_type": "code",
   "execution_count": 49,
   "id": "3e8b47c2-2c2b-422c-bcd6-b9d6ed5bc474",
   "metadata": {},
   "outputs": [],
   "source": [
    "AccuracyInvertedGradient = pd.read_csv('data/label_skew/inverted_gradient/fl_usps/Weight/FedProx/FedProxInvertedGradientUSPSSeed123/in_domain_mean_acc.csv')"
   ]
  },
  {
   "cell_type": "code",
   "execution_count": 50,
   "id": "8f8f4184-9190-444d-9226-8246f1b30977",
   "metadata": {},
   "outputs": [],
   "source": [
    "diffAccuracyInvertedGradient = Accuracy - AccuracyInvertedGradient"
   ]
  },
  {
   "cell_type": "code",
   "execution_count": 51,
   "id": "7ebf93a7-bdbc-4de7-b295-d00ff3d9fd82",
   "metadata": {},
   "outputs": [],
   "source": [
    "meanDiffAccuracyInvertedGradient = diffAccuracyInvertedGradient.mean(axis=1)"
   ]
  },
  {
   "cell_type": "code",
   "execution_count": 52,
   "id": "c145c6a2-7f74-42ae-ace8-611aa541723f",
   "metadata": {},
   "outputs": [
    {
     "name": "stdout",
     "output_type": "stream",
     "text": [
      "0    0.7222\n",
      "dtype: float64\n"
     ]
    }
   ],
   "source": [
    "print(meanDiffAccuracyInvertedGradient)"
   ]
  },
  {
   "cell_type": "code",
   "execution_count": 53,
   "id": "f6e11d67-b910-49dc-9c55-e856cac04691",
   "metadata": {},
   "outputs": [],
   "source": [
    "AccuracyAtropos = pd.read_csv('data/label_skew/inverted_gradient/fl_usps/Weight/FedProx/FedProxAtroposUSPSSeed123/in_domain_mean_acc.csv')"
   ]
  },
  {
   "cell_type": "code",
   "execution_count": 55,
   "id": "71b0346a-8581-4dfc-95af-680c43a811aa",
   "metadata": {},
   "outputs": [],
   "source": [
    "diffAccuracyAtropos = Accuracy - AccuracyAtropos"
   ]
  },
  {
   "cell_type": "code",
   "execution_count": 56,
   "id": "3e7ab9be-caa4-4579-9696-0ea8458726a8",
   "metadata": {},
   "outputs": [],
   "source": [
    "meanDiffAccuracyAtropos = diffAccuracyAtropos.mean(axis=1)"
   ]
  },
  {
   "cell_type": "code",
   "execution_count": 57,
   "id": "602faf83-fb2d-4b15-b1bd-a0f8eb47a2a4",
   "metadata": {},
   "outputs": [
    {
     "name": "stdout",
     "output_type": "stream",
     "text": [
      "0    1.4625\n",
      "dtype: float64\n"
     ]
    }
   ],
   "source": [
    "print(meanDiffAccuracyAtropos)"
   ]
  },
  {
   "cell_type": "code",
   "execution_count": null,
   "id": "b472305f-142b-4de9-8657-71164bc5d835",
   "metadata": {},
   "outputs": [],
   "source": []
  }
 ],
 "metadata": {
  "kernelspec": {
   "display_name": "Climate",
   "language": "python",
   "name": "climate"
  },
  "language_info": {
   "codemirror_mode": {
    "name": "ipython",
    "version": 3
   },
   "file_extension": ".py",
   "mimetype": "text/x-python",
   "name": "python",
   "nbconvert_exporter": "python",
   "pygments_lexer": "ipython3",
   "version": "3.12.3"
  }
 },
 "nbformat": 4,
 "nbformat_minor": 5
}
