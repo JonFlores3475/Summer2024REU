{
 "cells": [
  {
   "cell_type": "code",
   "execution_count": 1,
   "id": "df404f9f-261e-4be8-99c3-4385f01cec4d",
   "metadata": {},
   "outputs": [],
   "source": [
    "import numpy as np\n",
    "import pandas as pd\n",
    "import matplotlib as plt"
   ]
  },
  {
   "cell_type": "code",
   "execution_count": 3,
   "id": "fe5c1e17-fba0-43e7-969e-c9ec6834a77a",
   "metadata": {},
   "outputs": [],
   "source": [
    "AccuracyDelphiV1BaseLocal= pd.read_csv('data/label_skew/None/fl_mnist/Weight/DelphiflZeroTrust/DelphiZeroTrustBaseLocalNoAttackSeed123/in_domain_mean_acc.csv')"
   ]
  },
  {
   "cell_type": "code",
   "execution_count": 4,
   "id": "f1c35bbd-7f81-493f-ba30-b9745fce8f5b",
   "metadata": {},
   "outputs": [],
   "source": [
    "AccuracyDelphiV1FedProxLocal = pd.read_csv('data/label_skew/None/fl_mnist/Weight/DelphiflZeroTrust/DelphiflZeroTrustFedProxBenchSeed123/in_domain_mean_acc.csv')"
   ]
  },
  {
   "cell_type": "code",
   "execution_count": 5,
   "id": "45fb5793-d20e-48b5-83eb-3ca5ff473fcd",
   "metadata": {},
   "outputs": [],
   "source": [
    "AccuracyFedProxFedProxLocal = pd.read_csv('data/label_skew/None/fl_mnist/Weight/FedProx/FedProxBenign/in_domain_mean_acc.csv')"
   ]
  },
  {
   "cell_type": "code",
   "execution_count": 6,
   "id": "4c3111f7-5d58-41a0-a2f7-30038eacd3b5",
   "metadata": {},
   "outputs": [],
   "source": [
    "AccuracyDelphiV2BaseLocal= pd.read_csv('data/label_skew/None/fl_mnist/Weight/DelphiflZeroTrustV2/DelphiflZeroTrustV2BaseLocalNoAttack123/in_domain_mean_acc.csv')"
   ]
  },
  {
   "cell_type": "code",
   "execution_count": 7,
   "id": "ac17f99f-5a85-4a00-80da-deec7cdba52e",
   "metadata": {},
   "outputs": [],
   "source": [
    "AccuracyDelphiV2FedProxLocal= pd.read_csv('data/label_skew/None/fl_mnist/Weight/DelphiflZeroTrustV2/DelphiZeroTrustV2FedProxNoAttackSeed123/in_domain_mean_acc.csv')"
   ]
  },
  {
   "cell_type": "code",
   "execution_count": null,
   "id": "1db8dc97-05e3-4b5f-a41c-dc972cd98c23",
   "metadata": {},
   "outputs": [],
   "source": []
  }
 ],
 "metadata": {
  "kernelspec": {
   "display_name": "Climate",
   "language": "python",
   "name": "climate"
  },
  "language_info": {
   "codemirror_mode": {
    "name": "ipython",
    "version": 3
   },
   "file_extension": ".py",
   "mimetype": "text/x-python",
   "name": "python",
   "nbconvert_exporter": "python",
   "pygments_lexer": "ipython3",
   "version": "3.12.3"
  }
 },
 "nbformat": 4,
 "nbformat_minor": 5
}
