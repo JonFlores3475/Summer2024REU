{
 "cells": [
  {
   "cell_type": "code",
   "execution_count": 1,
   "id": "0c716c34-38c3-4d74-8c14-ee11f475f4d2",
   "metadata": {},
   "outputs": [],
   "source": [
    "import pandas as pd\n",
    "import numpy as np"
   ]
  },
  {
   "cell_type": "code",
   "execution_count": 2,
   "id": "3332b111-1294-43fa-8f40-ffc93aa85723",
   "metadata": {},
   "outputs": [],
   "source": [
    "Accuracy = pd.read_csv('data/label_skew/None/fl_mnist/Weight/FedProx/FedProxBenign/in_domain_mean_acc.csv')"
   ]
  },
  {
   "cell_type": "code",
   "execution_count": 3,
   "id": "2185f2c5-4eba-4b95-ae9f-2692a21bedf1",
   "metadata": {},
   "outputs": [],
   "source": [
    "meanAccuracy = Accuracy.mean(axis=1)"
   ]
  },
  {
   "cell_type": "code",
   "execution_count": 4,
   "id": "248dde47-45fd-4fc4-a5ee-6fa817dac0db",
   "metadata": {},
   "outputs": [
    {
     "name": "stdout",
     "output_type": "stream",
     "text": [
      "0    98.7982\n",
      "dtype: float64\n"
     ]
    }
   ],
   "source": [
    "print(meanAccuracy)"
   ]
  },
  {
   "cell_type": "code",
   "execution_count": 5,
   "id": "af655e2f-a926-4d6f-8d56-1e43a9315f1e",
   "metadata": {},
   "outputs": [],
   "source": [
    "AccuracyLieAttack= pd.read_csv('data/label_skew/lie_attack/fl_mnist/Weight/DelphiflZeroTrustV2/DelphiflZeroTrustV2LieAttackSeed123/in_domain_mean_acc.csv')"
   ]
  },
  {
   "cell_type": "code",
   "execution_count": 6,
   "id": "783065d6-ab99-412c-8aae-4e6b3feba613",
   "metadata": {},
   "outputs": [],
   "source": [
    "diffLieAttack = Accuracy - AccuracyLieAttack"
   ]
  },
  {
   "cell_type": "code",
   "execution_count": 7,
   "id": "3572cb90-8972-40bc-bdd9-9453b61adf97",
   "metadata": {},
   "outputs": [],
   "source": [
    "meanDiffLieAttack = diffLieAttack.mean(axis=1)"
   ]
  },
  {
   "cell_type": "code",
   "execution_count": 8,
   "id": "168be5f7-4cf4-41e2-b294-952f4ecf375b",
   "metadata": {},
   "outputs": [
    {
     "name": "stdout",
     "output_type": "stream",
     "text": [
      "0    1.2678\n",
      "dtype: float64\n"
     ]
    }
   ],
   "source": [
    "print(meanDiffLieAttack)"
   ]
  },
  {
   "cell_type": "code",
   "execution_count": 9,
   "id": "360081be-16f7-480f-b3ab-357028bb57f8",
   "metadata": {},
   "outputs": [],
   "source": [
    "AccuracyPairFlip = pd.read_csv('data/label_skew/PairFlip/fl_mnist/Weight/DelphiflZeroTrustV2/DelphiflZeroTrustV2PairFlipSeed123/in_domain_mean_acc.csv')"
   ]
  },
  {
   "cell_type": "code",
   "execution_count": 10,
   "id": "4970f23f-f161-40fc-8670-3f3f6b37109e",
   "metadata": {},
   "outputs": [],
   "source": [
    "diffPairFlip = Accuracy - AccuracyPairFlip"
   ]
  },
  {
   "cell_type": "code",
   "execution_count": 11,
   "id": "4ea6cd36-5e99-4073-b300-b1855355092d",
   "metadata": {},
   "outputs": [],
   "source": [
    "meanDiffPairFlip = diffPairFlip.mean(axis=1)"
   ]
  },
  {
   "cell_type": "code",
   "execution_count": 12,
   "id": "e3750b37-9137-447e-b267-334171dcd603",
   "metadata": {},
   "outputs": [
    {
     "name": "stdout",
     "output_type": "stream",
     "text": [
      "0    1.1316\n",
      "dtype: float64\n"
     ]
    }
   ],
   "source": [
    "print(meanDiffPairFlip)"
   ]
  },
  {
   "cell_type": "code",
   "execution_count": 13,
   "id": "19dee2f9-afaa-4296-b741-49c6079939bf",
   "metadata": {},
   "outputs": [],
   "source": [
    "AccuracyRandomNoise = pd.read_csv('data/label_skew/RandomNoise/fl_mnist/Weight/DelphiflZeroTrustV2/DelphiflZeroTrustV2RandomNoiseSeed123/in_domain_mean_acc.csv')"
   ]
  },
  {
   "cell_type": "code",
   "execution_count": 14,
   "id": "fe205bc6-041b-4543-b6bd-04480f944701",
   "metadata": {},
   "outputs": [],
   "source": [
    "diffRandomNoise = Accuracy - AccuracyRandomNoise"
   ]
  },
  {
   "cell_type": "code",
   "execution_count": 15,
   "id": "e58b1a65-180b-4da0-a923-fbe5e62b3b03",
   "metadata": {},
   "outputs": [],
   "source": [
    "meanDiffRandomNoise = diffRandomNoise.mean(axis=1)"
   ]
  },
  {
   "cell_type": "code",
   "execution_count": 16,
   "id": "b2edd712-96d1-48f2-a368-af12893c5475",
   "metadata": {},
   "outputs": [
    {
     "name": "stdout",
     "output_type": "stream",
     "text": [
      "0    1.2273\n",
      "dtype: float64\n"
     ]
    }
   ],
   "source": [
    "print(meanDiffRandomNoise)"
   ]
  },
  {
   "cell_type": "code",
   "execution_count": 17,
   "id": "68ca3b3d-94eb-4d85-a6b3-2ddb1a4e0f36",
   "metadata": {},
   "outputs": [],
   "source": [
    "AccuracySymFlip = pd.read_csv('data/label_skew/SymFlip/fl_mnist/Weight/DelphiflZeroTrustV2/DelphiflZeroTrustV2SymFlipSeed123/in_domain_mean_acc.csv')"
   ]
  },
  {
   "cell_type": "code",
   "execution_count": 18,
   "id": "9735aeba-46aa-4c45-92ea-75556571dc00",
   "metadata": {},
   "outputs": [],
   "source": [
    "diffSymFlip = Accuracy - AccuracySymFlip"
   ]
  },
  {
   "cell_type": "code",
   "execution_count": 19,
   "id": "a9313003-00ae-491e-9fe9-5378043d321f",
   "metadata": {},
   "outputs": [],
   "source": [
    "meanDiffSymFlip = diffSymFlip.mean(axis=1)"
   ]
  },
  {
   "cell_type": "code",
   "execution_count": 20,
   "id": "09e92ef9-587e-49c8-96b1-9a0a2686a894",
   "metadata": {},
   "outputs": [
    {
     "name": "stdout",
     "output_type": "stream",
     "text": [
      "0    1.1274\n",
      "dtype: float64\n"
     ]
    }
   ],
   "source": [
    "print(meanDiffSymFlip)"
   ]
  },
  {
   "cell_type": "code",
   "execution_count": null,
   "id": "064f2fef-3c6f-4c49-9913-516f72374989",
   "metadata": {},
   "outputs": [],
   "source": []
  }
 ],
 "metadata": {
  "kernelspec": {
   "display_name": "Climate",
   "language": "python",
   "name": "climate"
  },
  "language_info": {
   "codemirror_mode": {
    "name": "ipython",
    "version": 3
   },
   "file_extension": ".py",
   "mimetype": "text/x-python",
   "name": "python",
   "nbconvert_exporter": "python",
   "pygments_lexer": "ipython3",
   "version": "3.12.3"
  }
 },
 "nbformat": 4,
 "nbformat_minor": 5
}
