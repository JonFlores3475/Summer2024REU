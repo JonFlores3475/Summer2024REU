{
 "cells": [
  {
   "cell_type": "code",
   "execution_count": 2,
   "id": "0c716c34-38c3-4d74-8c14-ee11f475f4d2",
   "metadata": {},
   "outputs": [],
   "source": [
    "import pandas as pd\n",
    "import numpy as np"
   ]
  },
  {
   "cell_type": "code",
   "execution_count": 3,
   "id": "3332b111-1294-43fa-8f40-ffc93aa85723",
   "metadata": {},
   "outputs": [],
   "source": [
    "Accuracy = pd.read_csv('data/label_skew/None/fl_mnist/Weight/FedProx/FedProxBenign/in_domain_mean_acc.csv')"
   ]
  },
  {
   "cell_type": "code",
   "execution_count": 4,
   "id": "2185f2c5-4eba-4b95-ae9f-2692a21bedf1",
   "metadata": {},
   "outputs": [],
   "source": [
    "meanAccuracy = Accuracy.mean(axis=1)"
   ]
  },
  {
   "cell_type": "code",
   "execution_count": 5,
   "id": "248dde47-45fd-4fc4-a5ee-6fa817dac0db",
   "metadata": {},
   "outputs": [
    {
     "name": "stdout",
     "output_type": "stream",
     "text": [
      "0    98.7982\n",
      "dtype: float64\n"
     ]
    }
   ],
   "source": [
    "print(meanAccuracy)"
   ]
  },
  {
   "cell_type": "code",
   "execution_count": 6,
   "id": "af655e2f-a926-4d6f-8d56-1e43a9315f1e",
   "metadata": {},
   "outputs": [],
   "source": [
    "AccuracyLieAttack= pd.read_csv('data/label_skew/lie_attack/fl_mnist/Weight/DelphiflZeroTrustV2/DelphiflZeroTrustV2LieAttackSeed123/in_domain_mean_acc.csv')"
   ]
  },
  {
   "cell_type": "code",
   "execution_count": 7,
   "id": "783065d6-ab99-412c-8aae-4e6b3feba613",
   "metadata": {},
   "outputs": [],
   "source": [
    "diffLieAttack = Accuracy - AccuracyLieAttack"
   ]
  },
  {
   "cell_type": "code",
   "execution_count": 8,
   "id": "3572cb90-8972-40bc-bdd9-9453b61adf97",
   "metadata": {},
   "outputs": [],
   "source": [
    "meanDiffLieAttack = diffLieAttack.mean(axis=1)"
   ]
  },
  {
   "cell_type": "code",
   "execution_count": 9,
   "id": "168be5f7-4cf4-41e2-b294-952f4ecf375b",
   "metadata": {},
   "outputs": [
    {
     "name": "stdout",
     "output_type": "stream",
     "text": [
      "0    1.2678\n",
      "dtype: float64\n"
     ]
    }
   ],
   "source": [
    "print(meanDiffLieAttack)"
   ]
  },
  {
   "cell_type": "code",
   "execution_count": 10,
   "id": "360081be-16f7-480f-b3ab-357028bb57f8",
   "metadata": {},
   "outputs": [],
   "source": [
    "AccuracyPairFlip = pd.read_csv('data/label_skew/PairFlip/fl_mnist/Weight/DelphiflZeroTrustV2/DelphiflZeroTrustV2PairFlipSeed123/in_domain_mean_acc.csv')"
   ]
  },
  {
   "cell_type": "code",
   "execution_count": 11,
   "id": "4970f23f-f161-40fc-8670-3f3f6b37109e",
   "metadata": {},
   "outputs": [],
   "source": [
    "diffPairFlip = Accuracy - AccuracyPairFlip"
   ]
  },
  {
   "cell_type": "code",
   "execution_count": 12,
   "id": "4ea6cd36-5e99-4073-b300-b1855355092d",
   "metadata": {},
   "outputs": [],
   "source": [
    "meanDiffPairFlip = diffPairFlip.mean(axis=1)"
   ]
  },
  {
   "cell_type": "code",
   "execution_count": 13,
   "id": "e3750b37-9137-447e-b267-334171dcd603",
   "metadata": {},
   "outputs": [
    {
     "name": "stdout",
     "output_type": "stream",
     "text": [
      "0    1.1316\n",
      "dtype: float64\n"
     ]
    }
   ],
   "source": [
    "print(meanDiffPairFlip)"
   ]
  },
  {
   "cell_type": "code",
   "execution_count": 14,
   "id": "19dee2f9-afaa-4296-b741-49c6079939bf",
   "metadata": {},
   "outputs": [],
   "source": [
    "AccuracyRandomNoise = pd.read_csv('data/label_skew/RandomNoise/fl_mnist/Weight/DelphiflZeroTrustV2/DelphiflZeroTrustV2RandomNoiseSeed123/in_domain_mean_acc.csv')"
   ]
  },
  {
   "cell_type": "code",
   "execution_count": 15,
   "id": "fe205bc6-041b-4543-b6bd-04480f944701",
   "metadata": {},
   "outputs": [],
   "source": [
    "diffRandomNoise = Accuracy - AccuracyRandomNoise"
   ]
  },
  {
   "cell_type": "code",
   "execution_count": 16,
   "id": "e58b1a65-180b-4da0-a923-fbe5e62b3b03",
   "metadata": {},
   "outputs": [],
   "source": [
    "meanDiffRandomNoise = diffRandomNoise.mean(axis=1)"
   ]
  },
  {
   "cell_type": "code",
   "execution_count": 17,
   "id": "b2edd712-96d1-48f2-a368-af12893c5475",
   "metadata": {},
   "outputs": [
    {
     "name": "stdout",
     "output_type": "stream",
     "text": [
      "0    1.2273\n",
      "dtype: float64\n"
     ]
    }
   ],
   "source": [
    "print(meanDiffRandomNoise)"
   ]
  },
  {
   "cell_type": "code",
   "execution_count": 18,
   "id": "68ca3b3d-94eb-4d85-a6b3-2ddb1a4e0f36",
   "metadata": {},
   "outputs": [],
   "source": [
    "AccuracySymFlip = pd.read_csv('data/label_skew/SymFlip/fl_mnist/Weight/DelphiflZeroTrustV2/DelphiflZeroTrustV2SymFlipSeed123/in_domain_mean_acc.csv')"
   ]
  },
  {
   "cell_type": "code",
   "execution_count": 19,
   "id": "9735aeba-46aa-4c45-92ea-75556571dc00",
   "metadata": {},
   "outputs": [],
   "source": [
    "diffSymFlip = Accuracy - AccuracySymFlip"
   ]
  },
  {
   "cell_type": "code",
   "execution_count": 20,
   "id": "a9313003-00ae-491e-9fe9-5378043d321f",
   "metadata": {},
   "outputs": [],
   "source": [
    "meanDiffSymFlip = diffSymFlip.mean(axis=1)"
   ]
  },
  {
   "cell_type": "code",
   "execution_count": 21,
   "id": "09e92ef9-587e-49c8-96b1-9a0a2686a894",
   "metadata": {},
   "outputs": [
    {
     "name": "stdout",
     "output_type": "stream",
     "text": [
      "0    1.1274\n",
      "dtype: float64\n"
     ]
    }
   ],
   "source": [
    "print(meanDiffSymFlip)"
   ]
  },
  {
   "cell_type": "code",
   "execution_count": 22,
   "id": "064f2fef-3c6f-4c49-9913-516f72374989",
   "metadata": {},
   "outputs": [],
   "source": [
    "AccuracyMinMax = pd.read_csv('data/label_skew/min_max/fl_mnist/Weight/DelphiflZeroTrustV2/DelphiflZeroTrustV2MinMaxSeed123/in_domain_mean_acc.csv')"
   ]
  },
  {
   "cell_type": "code",
   "execution_count": 23,
   "id": "f7498709-d4c1-47a2-8865-3dc6ef6f6e66",
   "metadata": {},
   "outputs": [],
   "source": [
    "diffMinMax = Accuracy - AccuracyMinMax"
   ]
  },
  {
   "cell_type": "code",
   "execution_count": 24,
   "id": "2c2b7ec1-895e-4645-a441-de8ae4687b5a",
   "metadata": {},
   "outputs": [],
   "source": [
    "meanDiffMinMax = diffMinMax.mean(axis=1)"
   ]
  },
  {
   "cell_type": "code",
   "execution_count": 25,
   "id": "0eed617e-a8b2-4178-a429-ee67b0638045",
   "metadata": {},
   "outputs": [
    {
     "name": "stdout",
     "output_type": "stream",
     "text": [
      "0    1.2255\n",
      "dtype: float64\n"
     ]
    }
   ],
   "source": [
    "print(meanDiffMinMax)"
   ]
  },
  {
   "cell_type": "code",
   "execution_count": 26,
   "id": "604c9877-ec0a-4e7f-ae50-0830fd871b5c",
   "metadata": {},
   "outputs": [],
   "source": [
    "AccuracyMinSum = pd.read_csv('data/label_skew/min_sum/fl_mnist/Weight/DelphiflZeroTrustV2/DelphiflZeroTrustV2MinSumSeed123/in_domain_mean_acc.csv')"
   ]
  },
  {
   "cell_type": "code",
   "execution_count": 27,
   "id": "0c1fa702-d91e-4057-8feb-2283622489c2",
   "metadata": {},
   "outputs": [],
   "source": [
    "diffMinSum = Accuracy - AccuracyMinSum"
   ]
  },
  {
   "cell_type": "code",
   "execution_count": 28,
   "id": "83738aaf-574b-4e0a-a305-16f93c9c4d6a",
   "metadata": {},
   "outputs": [],
   "source": [
    "meanDiffMinSum = diffMinSum.mean(axis=1)"
   ]
  },
  {
   "cell_type": "code",
   "execution_count": 29,
   "id": "68ca4eae-e21e-4240-8b22-bd5c4c4affc8",
   "metadata": {},
   "outputs": [
    {
     "name": "stdout",
     "output_type": "stream",
     "text": [
      "0    1.1818\n",
      "dtype: float64\n"
     ]
    }
   ],
   "source": [
    "print(meanDiffMinSum)"
   ]
  },
  {
   "cell_type": "code",
   "execution_count": 30,
   "id": "c66a6896-0370-4ddb-a432-7f18c1a87c3b",
   "metadata": {},
   "outputs": [],
   "source": [
    "AccuracyInvertedGradient = pd.read_csv('data/label_skew/inverted_gradient/fl_mnist/Weight/DelphiflZeroTrustV2/DelphiZeroTrustV2InvertedGradientSeed123/in_domain_mean_acc.csv')"
   ]
  },
  {
   "cell_type": "code",
   "execution_count": 31,
   "id": "9e4b3c24-b373-4d11-8313-2bedcdf4730a",
   "metadata": {},
   "outputs": [],
   "source": [
    "diffInvertedGradient = Accuracy - AccuracyInvertedGradient"
   ]
  },
  {
   "cell_type": "code",
   "execution_count": 32,
   "id": "956c5055-e320-4678-b2df-e79b50ecf651",
   "metadata": {},
   "outputs": [],
   "source": [
    "meanDiffInvertedGradient = diffInvertedGradient.mean(axis=1)"
   ]
  },
  {
   "cell_type": "code",
   "execution_count": 33,
   "id": "f22e12b3-9ead-49a5-a1ad-0f84f750f348",
   "metadata": {},
   "outputs": [
    {
     "name": "stdout",
     "output_type": "stream",
     "text": [
      "0    1.6548\n",
      "dtype: float64\n"
     ]
    }
   ],
   "source": [
    "print(meanDiffInvertedGradient)"
   ]
  },
  {
   "cell_type": "code",
   "execution_count": 34,
   "id": "0d4d3d73-255d-4a1c-8d3e-05641fb65901",
   "metadata": {},
   "outputs": [],
   "source": [
    "AccuracySneakyRandom = pd.read_csv('data/label_skew/sneaky_random/fl_mnist/Weight/DelphiflZeroTrustV2/DelphiflZeroTrustV2SneakyRandomSeed123/in_domain_mean_acc.csv')"
   ]
  },
  {
   "cell_type": "code",
   "execution_count": 35,
   "id": "642330cd-97e0-485c-8bd0-a4f9265c709e",
   "metadata": {},
   "outputs": [],
   "source": [
    "diffSneakyRandom = Accuracy - AccuracySneakyRandom"
   ]
  },
  {
   "cell_type": "code",
   "execution_count": 36,
   "id": "a6a678d0-3e62-4703-8d5d-fc54931b4a08",
   "metadata": {},
   "outputs": [],
   "source": [
    "meanDiffSneakyRandom = diffSneakyRandom.mean(axis=1)"
   ]
  },
  {
   "cell_type": "code",
   "execution_count": 37,
   "id": "c0ec1e49-c65a-42f5-bf32-139efbe34941",
   "metadata": {},
   "outputs": [
    {
     "name": "stdout",
     "output_type": "stream",
     "text": [
      "0    1.3259\n",
      "dtype: float64\n"
     ]
    }
   ],
   "source": [
    "print(meanDiffSneakyRandom)"
   ]
  },
  {
   "cell_type": "code",
   "execution_count": 38,
   "id": "92509db9-3ea4-4772-8975-b25af14154c0",
   "metadata": {},
   "outputs": [],
   "source": [
    "AccuracySneakyRandom2 = pd.read_csv('data/label_skew/sneaky_random2/fl_mnist/Weight/DelphiflZeroTrustV2/DelphiflZeroTrustV2SneakyRandom2Seed123/in_domain_mean_acc.csv')"
   ]
  },
  {
   "cell_type": "code",
   "execution_count": 39,
   "id": "5beb4ddd-5e9a-4007-9061-b1b6d1ba9b69",
   "metadata": {},
   "outputs": [],
   "source": [
    "diffSneakyRandom2 = Accuracy - AccuracySneakyRandom2"
   ]
  },
  {
   "cell_type": "code",
   "execution_count": 40,
   "id": "9d97bf78-c180-4383-b429-ff8b559e0452",
   "metadata": {},
   "outputs": [],
   "source": [
    "meanDiffSneakyRandom2 = diffSneakyRandom2.mean(axis=1)"
   ]
  },
  {
   "cell_type": "code",
   "execution_count": 41,
   "id": "4bfc3742-3a03-418a-911a-9c2325e9a034",
   "metadata": {},
   "outputs": [
    {
     "name": "stdout",
     "output_type": "stream",
     "text": [
      "0    1.3411\n",
      "dtype: float64\n"
     ]
    }
   ],
   "source": [
    "print(meanDiffSneakyRandom2)"
   ]
  },
  {
   "cell_type": "code",
   "execution_count": 42,
   "id": "04791548-2013-4d28-a606-d147b66b7c67",
   "metadata": {},
   "outputs": [],
   "source": [
    "AccuracySneakyRandom3 = pd.read_csv('data/label_skew/sneaky_random3/fl_mnist/Weight/DelphiflZeroTrustV2/DelphiflZeroTrustV2SneakyRandom3Seed123/in_domain_mean_acc.csv')"
   ]
  },
  {
   "cell_type": "code",
   "execution_count": 43,
   "id": "d9b3d31e-c6ed-49f6-befe-42a541b38efb",
   "metadata": {},
   "outputs": [],
   "source": [
    "diffSneakyRandom3 = Accuracy - AccuracySneakyRandom3"
   ]
  },
  {
   "cell_type": "code",
   "execution_count": 44,
   "id": "b9d97b66-24c2-459a-adf6-afc5233877f8",
   "metadata": {},
   "outputs": [],
   "source": [
    "meanDiffSneakyRandom3 = diffSneakyRandom3.mean(axis=1)"
   ]
  },
  {
   "cell_type": "code",
   "execution_count": 45,
   "id": "3772fced-bcb4-4781-b2da-ac10df27b0f6",
   "metadata": {},
   "outputs": [
    {
     "name": "stdout",
     "output_type": "stream",
     "text": [
      "0    1.1348\n",
      "dtype: float64\n"
     ]
    }
   ],
   "source": [
    "print(meanDiffSneakyRandom3)"
   ]
  },
  {
   "cell_type": "code",
   "execution_count": 46,
   "id": "81636788-044d-4179-b03a-a13140e91047",
   "metadata": {},
   "outputs": [],
   "source": [
    "AccuracySneakyRandom4 = pd.read_csv('data/label_skew/sneaky_random4/fl_mnist/Weight/DelphiflZeroTrustV2/DelphiflZeroTrustV2SneakyRandom4Seed123/in_domain_mean_acc.csv')"
   ]
  },
  {
   "cell_type": "code",
   "execution_count": 47,
   "id": "d41aa2b8-3153-4b2a-8a21-dd7afd9d898e",
   "metadata": {},
   "outputs": [],
   "source": [
    "diffSneakyRandom4 = Accuracy - AccuracySneakyRandom4"
   ]
  },
  {
   "cell_type": "code",
   "execution_count": 48,
   "id": "775790c8-9c4f-4d2a-8ab0-dad86e5b7dc6",
   "metadata": {},
   "outputs": [],
   "source": [
    "meanDiffSneakyRandom4 = diffSneakyRandom4.mean(axis=1)"
   ]
  },
  {
   "cell_type": "code",
   "execution_count": 49,
   "id": "5abe9bc4-72a6-4c55-aa14-1e0231be2491",
   "metadata": {},
   "outputs": [
    {
     "name": "stdout",
     "output_type": "stream",
     "text": [
      "0    0.9338\n",
      "dtype: float64\n"
     ]
    }
   ],
   "source": [
    "print(meanDiffSneakyRandom4)"
   ]
  },
  {
   "cell_type": "code",
   "execution_count": 50,
   "id": "0d2242d8-b9b2-4784-a88b-2b040a07a6c7",
   "metadata": {},
   "outputs": [],
   "source": [
    "AccuracySneakyRandom5 = pd.read_csv('data/label_skew/sneaky_random5/fl_mnist/Weight/DelphiflZeroTrustV2/DelphiflZeroTrustV2SneakyRandom5Seed123/in_domain_mean_acc.csv')"
   ]
  },
  {
   "cell_type": "code",
   "execution_count": 51,
   "id": "052d08a3-bfe4-4a36-89a1-22ffe492da30",
   "metadata": {},
   "outputs": [],
   "source": [
    "diffSneakyRandom5 = Accuracy - AccuracySneakyRandom5"
   ]
  },
  {
   "cell_type": "code",
   "execution_count": 52,
   "id": "6d9be677-3b9a-4eb6-98f0-e97787f64356",
   "metadata": {},
   "outputs": [],
   "source": [
    "meanDiffSneakyRandom5 = diffSneakyRandom5.mean(axis=1)"
   ]
  },
  {
   "cell_type": "code",
   "execution_count": 53,
   "id": "4c5a3970-059a-4517-a70b-305b3856cb26",
   "metadata": {},
   "outputs": [
    {
     "name": "stdout",
     "output_type": "stream",
     "text": [
      "0    1.1945\n",
      "dtype: float64\n"
     ]
    }
   ],
   "source": [
    "print(meanDiffSneakyRandom5)"
   ]
  },
  {
   "cell_type": "code",
   "execution_count": 54,
   "id": "3739eed9-1ef6-430c-93a0-aba6507d0c8e",
   "metadata": {},
   "outputs": [],
   "source": [
    "AccuracyAtropos= pd.read_csv('data/label_skew/inverted_gradient/fl_mnist/Weight/DelphiflZeroTrustV2/DelphiZeroTrustV2AtroposSeed123/in_domain_mean_acc.csv')"
   ]
  },
  {
   "cell_type": "code",
   "execution_count": 55,
   "id": "113698f5-5d08-473d-add9-b6bdfc30e28a",
   "metadata": {},
   "outputs": [],
   "source": [
    "diffAtropos = Accuracy - AccuracyAtropos"
   ]
  },
  {
   "cell_type": "code",
   "execution_count": 56,
   "id": "d6bf79dc-2938-423d-af66-2dd2b1ae2b62",
   "metadata": {},
   "outputs": [],
   "source": [
    "meanDiffAtropos = diffAtropos.mean(axis=1)"
   ]
  },
  {
   "cell_type": "code",
   "execution_count": 57,
   "id": "11161cee-aab9-417b-987a-a1c872ebd6e9",
   "metadata": {},
   "outputs": [
    {
     "name": "stdout",
     "output_type": "stream",
     "text": [
      "0    1.8925\n",
      "dtype: float64\n"
     ]
    }
   ],
   "source": [
    "print(meanDiffAtropos)"
   ]
  },
  {
   "cell_type": "code",
   "execution_count": null,
   "id": "75837b4e-5c32-43c4-847d-52d66a679274",
   "metadata": {},
   "outputs": [],
   "source": []
  }
 ],
 "metadata": {
  "kernelspec": {
   "display_name": "Climate",
   "language": "python",
   "name": "climate"
  },
  "language_info": {
   "codemirror_mode": {
    "name": "ipython",
    "version": 3
   },
   "file_extension": ".py",
   "mimetype": "text/x-python",
   "name": "python",
   "nbconvert_exporter": "python",
   "pygments_lexer": "ipython3",
   "version": "3.12.3"
  }
 },
 "nbformat": 4,
 "nbformat_minor": 5
}
