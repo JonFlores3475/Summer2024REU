{
 "cells": [
  {
   "cell_type": "code",
   "execution_count": 1,
   "id": "eace0d2a-e431-4ba5-b3f2-c3d97dfaefeb",
   "metadata": {},
   "outputs": [],
   "source": [
    "import pandas as pd\n",
    "import numpy as np"
   ]
  },
  {
   "cell_type": "code",
   "execution_count": 2,
   "id": "ae107530-b571-4787-b33e-73dd2df7f478",
   "metadata": {},
   "outputs": [],
   "source": [
    "Accuracy = pd.read_csv('data/label_skew/min_max/fl_mnist/Weight/DelphiflZeroTrustV2/DelphiflZeroTrustV2MinMaxSeed123/in_domain_mean_acc.csv')"
   ]
  },
  {
   "cell_type": "code",
   "execution_count": 3,
   "id": "6dae8a98-e7ec-429e-8130-396c95fb2990",
   "metadata": {},
   "outputs": [],
   "source": [
    "meanAccuracy = Accuracy.mean(axis=1)"
   ]
  },
  {
   "cell_type": "code",
   "execution_count": 4,
   "id": "2ce110ee-c214-4ebf-8ee9-1d043d2db1e8",
   "metadata": {},
   "outputs": [
    {
     "name": "stdout",
     "output_type": "stream",
     "text": [
      "0    97.5727\n",
      "dtype: float64\n"
     ]
    }
   ],
   "source": [
    "print(meanAccuracy)"
   ]
  },
  {
   "cell_type": "code",
   "execution_count": null,
   "id": "77b49823-659e-4853-9fa0-ccbc1f1b68af",
   "metadata": {},
   "outputs": [],
   "source": []
  }
 ],
 "metadata": {
  "kernelspec": {
   "display_name": "Climate",
   "language": "python",
   "name": "climate"
  },
  "language_info": {
   "codemirror_mode": {
    "name": "ipython",
    "version": 3
   },
   "file_extension": ".py",
   "mimetype": "text/x-python",
   "name": "python",
   "nbconvert_exporter": "python",
   "pygments_lexer": "ipython3",
   "version": "3.12.3"
  }
 },
 "nbformat": 4,
 "nbformat_minor": 5
}
