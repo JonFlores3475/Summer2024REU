{
 "cells": [
  {
   "cell_type": "code",
   "execution_count": 2,
   "id": "0c716c34-38c3-4d74-8c14-ee11f475f4d2",
   "metadata": {},
   "outputs": [],
   "source": [
    "import pandas as pd\n",
    "import numpy as np"
   ]
  },
  {
   "cell_type": "code",
   "execution_count": 3,
   "id": "3332b111-1294-43fa-8f40-ffc93aa85723",
   "metadata": {},
   "outputs": [],
   "source": [
    "Accuracy = pd.read_csv('data/label_skew/None/fl_mnist/Weight/FedProx/FedProxBenign/in_domain_mean_acc.csv')"
   ]
  },
  {
   "cell_type": "code",
   "execution_count": 4,
   "id": "2185f2c5-4eba-4b95-ae9f-2692a21bedf1",
   "metadata": {},
   "outputs": [],
   "source": [
    "meanAccuracy = Accuracy.mean(axis=1)"
   ]
  },
  {
   "cell_type": "code",
   "execution_count": 5,
   "id": "248dde47-45fd-4fc4-a5ee-6fa817dac0db",
   "metadata": {},
   "outputs": [
    {
     "name": "stdout",
     "output_type": "stream",
     "text": [
      "0    98.7982\n",
      "dtype: float64\n"
     ]
    }
   ],
   "source": [
    "print(meanAccuracy)"
   ]
  },
  {
   "cell_type": "code",
   "execution_count": 6,
   "id": "af655e2f-a926-4d6f-8d56-1e43a9315f1e",
   "metadata": {},
   "outputs": [],
   "source": [
    "AccuracyDelphiPairFlip = pd.read_csv('data/label_skew/PairFlip/fl_mnist/Weight/DelphiflZeroTrust/DelphiZeroTrustVersion1Seed123Pairflip/in_domain_mean_acc.csv')"
   ]
  },
  {
   "cell_type": "code",
   "execution_count": 7,
   "id": "f8f8199e-0391-4f33-b11c-4e7bb2ca4d60",
   "metadata": {},
   "outputs": [],
   "source": [
    "diff = Accuracy - AccuracyDelphiPairFlip"
   ]
  },
  {
   "cell_type": "code",
   "execution_count": 8,
   "id": "f9882dfd-3698-44fe-9490-22c156392615",
   "metadata": {},
   "outputs": [],
   "source": [
    "meanDiffDelphiPairFlip = diff.mean(axis=1)"
   ]
  },
  {
   "cell_type": "code",
   "execution_count": 9,
   "id": "dd9225c3-6c13-401e-9d17-727afcb34906",
   "metadata": {},
   "outputs": [
    {
     "name": "stdout",
     "output_type": "stream",
     "text": [
      "0    1.1166\n",
      "dtype: float64\n"
     ]
    }
   ],
   "source": [
    "print(meanDiffDelphiPairFlip)"
   ]
  },
  {
   "cell_type": "code",
   "execution_count": null,
   "id": "fd65c72f-77f8-4629-ac16-ca8d6a9fce34",
   "metadata": {},
   "outputs": [],
   "source": []
  }
 ],
 "metadata": {
  "kernelspec": {
   "display_name": "Climate",
   "language": "python",
   "name": "climate"
  },
  "language_info": {
   "codemirror_mode": {
    "name": "ipython",
    "version": 3
   },
   "file_extension": ".py",
   "mimetype": "text/x-python",
   "name": "python",
   "nbconvert_exporter": "python",
   "pygments_lexer": "ipython3",
   "version": "3.12.3"
  }
 },
 "nbformat": 4,
 "nbformat_minor": 5
}
