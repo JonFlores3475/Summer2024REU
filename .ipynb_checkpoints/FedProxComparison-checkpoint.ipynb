{
 "cells": [
  {
   "cell_type": "code",
   "execution_count": 1,
   "id": "0c716c34-38c3-4d74-8c14-ee11f475f4d2",
   "metadata": {},
   "outputs": [],
   "source": [
    "import pandas as pd\n",
    "import numpy as np"
   ]
  },
  {
   "cell_type": "code",
   "execution_count": 2,
   "id": "3332b111-1294-43fa-8f40-ffc93aa85723",
   "metadata": {},
   "outputs": [],
   "source": [
    "Accuracy = pd.read_csv('data/label_skew/None/fl_mnist/Weight/FedProx/FedProxBenign/in_domain_mean_acc.csv')"
   ]
  },
  {
   "cell_type": "code",
   "execution_count": 3,
   "id": "2185f2c5-4eba-4b95-ae9f-2692a21bedf1",
   "metadata": {},
   "outputs": [],
   "source": [
    "meanAccuracy = Accuracy.mean(axis=1)"
   ]
  },
  {
   "cell_type": "code",
   "execution_count": 4,
   "id": "248dde47-45fd-4fc4-a5ee-6fa817dac0db",
   "metadata": {},
   "outputs": [
    {
     "name": "stdout",
     "output_type": "stream",
     "text": [
      "0    98.7982\n",
      "dtype: float64\n"
     ]
    }
   ],
   "source": [
    "print(meanAccuracy)"
   ]
  },
  {
   "cell_type": "code",
   "execution_count": 5,
   "id": "af655e2f-a926-4d6f-8d56-1e43a9315f1e",
   "metadata": {},
   "outputs": [],
   "source": [
    "AccuracyDelphiPairFlip = pd.read_csv('data/label_skew/PairFlip/fl_mnist/Weight/DelphiflZeroTrust/DelphiZeroTrustVersion1Seed123Pairflip/in_domain_mean_acc.csv')"
   ]
  },
  {
   "cell_type": "code",
   "execution_count": 6,
   "id": "f8f8199e-0391-4f33-b11c-4e7bb2ca4d60",
   "metadata": {},
   "outputs": [],
   "source": [
    "diffPair = Accuracy - AccuracyDelphiPairFlip"
   ]
  },
  {
   "cell_type": "code",
   "execution_count": 7,
   "id": "f9882dfd-3698-44fe-9490-22c156392615",
   "metadata": {},
   "outputs": [],
   "source": [
    "meanDiffDelphiPairFlip = diffPair.mean(axis=1)"
   ]
  },
  {
   "cell_type": "code",
   "execution_count": 8,
   "id": "dd9225c3-6c13-401e-9d17-727afcb34906",
   "metadata": {},
   "outputs": [
    {
     "name": "stdout",
     "output_type": "stream",
     "text": [
      "0    1.1166\n",
      "dtype: float64\n"
     ]
    }
   ],
   "source": [
    "print(meanDiffDelphiPairFlip)"
   ]
  },
  {
   "cell_type": "code",
   "execution_count": 9,
   "id": "fd65c72f-77f8-4629-ac16-ca8d6a9fce34",
   "metadata": {},
   "outputs": [],
   "source": [
    "AccuracyDelphiSymFlip = pd.read_csv('data/label_skew/SymFlip/fl_mnist/Weight/DelphiflZeroTrust/DelphiflZeroTrustSymFlipSeed123/in_domain_mean_acc.csv')"
   ]
  },
  {
   "cell_type": "code",
   "execution_count": 10,
   "id": "c9518c34-aef9-4be5-80e0-048ec8dbc765",
   "metadata": {},
   "outputs": [],
   "source": [
    "diffSym = Accuracy - AccuracyDelphiSymFlip"
   ]
  },
  {
   "cell_type": "code",
   "execution_count": 11,
   "id": "5d4cb656-6c79-4f72-b0fc-c853e3d182b7",
   "metadata": {},
   "outputs": [],
   "source": [
    "meanDiffDelphiSymFlip = diffSym.mean(axis=1)"
   ]
  },
  {
   "cell_type": "code",
   "execution_count": 12,
   "id": "ecc49f8c-3c90-43ea-9e4a-56dde2048f9b",
   "metadata": {},
   "outputs": [
    {
     "name": "stdout",
     "output_type": "stream",
     "text": [
      "0    1.0993\n",
      "dtype: float64\n"
     ]
    }
   ],
   "source": [
    "print(meanDiffDelphiSymFlip)"
   ]
  },
  {
   "cell_type": "code",
   "execution_count": 13,
   "id": "5c3041dc-62a7-4d26-9a1a-cbe4c2ddd2bd",
   "metadata": {},
   "outputs": [],
   "source": [
    "AccuracyDelphiLieAttack = pd.read_csv('data/label_skew/lie_attack/fl_mnist/Weight/DelphiflZeroTrust/DelphiflZeroTrustLieAttackSeed123/in_domain_mean_acc.csv')"
   ]
  },
  {
   "cell_type": "code",
   "execution_count": 14,
   "id": "fb828b3a-3d56-4c52-ac48-d8a06f553298",
   "metadata": {},
   "outputs": [],
   "source": [
    "diffLieAttack = Accuracy - AccuracyDelphiLieAttack"
   ]
  },
  {
   "cell_type": "code",
   "execution_count": 15,
   "id": "789ca392-1d27-4af1-bff7-0391a8e25f38",
   "metadata": {},
   "outputs": [],
   "source": [
    "meanDiffLieAttack = diffLieAttack.mean(axis=1)"
   ]
  },
  {
   "cell_type": "code",
   "execution_count": 16,
   "id": "2456710a-fdd2-42cf-adb2-a3f4c900990a",
   "metadata": {},
   "outputs": [
    {
     "name": "stdout",
     "output_type": "stream",
     "text": [
      "0    1.1971\n",
      "dtype: float64\n"
     ]
    }
   ],
   "source": [
    "print(meanDiffLieAttack)"
   ]
  },
  {
   "cell_type": "code",
   "execution_count": 17,
   "id": "3891e511-d24b-44cf-b6c2-410e39e9aafb",
   "metadata": {},
   "outputs": [],
   "source": [
    "AccuracyDelphiMinMax = pd.read_csv('data/label_skew/min_max/fl_mnist/Weight/DelphiflZeroTrust/DelphiflZeroTrustMinMaxSeed123/in_domain_mean_acc.csv')"
   ]
  },
  {
   "cell_type": "code",
   "execution_count": 18,
   "id": "9b6d761e-75f3-4c77-b7b7-c094542033fa",
   "metadata": {},
   "outputs": [],
   "source": [
    "diffMinMax = Accuracy - AccuracyDelphiMinMax"
   ]
  },
  {
   "cell_type": "code",
   "execution_count": 19,
   "id": "8e8c0d5e-b62a-4c19-a26f-e558347f7e0c",
   "metadata": {},
   "outputs": [],
   "source": [
    "meanDiffMinMax = diffMinMax.mean(axis=1)"
   ]
  },
  {
   "cell_type": "code",
   "execution_count": 20,
   "id": "d89de7f1-bae1-4d06-8e97-b6efda6bbd95",
   "metadata": {},
   "outputs": [
    {
     "name": "stdout",
     "output_type": "stream",
     "text": [
      "0    1.1792\n",
      "dtype: float64\n"
     ]
    }
   ],
   "source": [
    "print(meanDiffMinMax)"
   ]
  },
  {
   "cell_type": "code",
   "execution_count": 21,
   "id": "ce36da06-f975-49d6-bb07-85daece63c29",
   "metadata": {},
   "outputs": [],
   "source": [
    "AccuracyDelphiMinSum = pd.read_csv('data/label_skew/min_sum/fl_mnist/Weight/DelphiflZeroTrust/DelphiflZeroTrustMinSumSeed123/in_domain_mean_acc.csv')"
   ]
  },
  {
   "cell_type": "code",
   "execution_count": 22,
   "id": "5be9b0f9-8361-4c27-ae1e-ff8a0e1a0db9",
   "metadata": {},
   "outputs": [],
   "source": [
    "diffMinSum = Accuracy - AccuracyDelphiMinSum"
   ]
  },
  {
   "cell_type": "code",
   "execution_count": 23,
   "id": "be7d9e01-c2e8-4300-b07a-4ef50ae5e457",
   "metadata": {},
   "outputs": [],
   "source": [
    "meanDiffMinSum = diffMinSum.mean(axis=1)"
   ]
  },
  {
   "cell_type": "code",
   "execution_count": 24,
   "id": "6c17ea43-e926-4726-9c08-0b46c62dad5b",
   "metadata": {},
   "outputs": [
    {
     "name": "stdout",
     "output_type": "stream",
     "text": [
      "0    1.1524\n",
      "dtype: float64\n"
     ]
    }
   ],
   "source": [
    "print(meanDiffMinSum)"
   ]
  },
  {
   "cell_type": "code",
   "execution_count": 25,
   "id": "ad40fa22-007a-41d1-b7d9-4704379881a1",
   "metadata": {},
   "outputs": [],
   "source": [
    "AccuracyDelphiRandomNoise =pd.read_csv('data/label_skew/RandomNoise/fl_mnist/Weight/DelphiflZeroTrust/DelphiflZeroTrustRandomNoiseSeed123/in_domain_mean_acc.csv')"
   ]
  },
  {
   "cell_type": "code",
   "execution_count": 26,
   "id": "c1e2cdb0-506d-4698-998c-2660aa086f50",
   "metadata": {},
   "outputs": [],
   "source": [
    "diffRandomNoise = Accuracy - AccuracyDelphiRandomNoise"
   ]
  },
  {
   "cell_type": "code",
   "execution_count": 27,
   "id": "a332c9ee-3a72-408b-9637-37c3f1fc2c45",
   "metadata": {},
   "outputs": [],
   "source": [
    "meanDiffRandomNoise = diffRandomNoise.mean(axis=1)"
   ]
  },
  {
   "cell_type": "code",
   "execution_count": 28,
   "id": "f3206f89-2a48-4c22-ae1f-3b9972947b71",
   "metadata": {},
   "outputs": [
    {
     "name": "stdout",
     "output_type": "stream",
     "text": [
      "0    1.247\n",
      "dtype: float64\n"
     ]
    }
   ],
   "source": [
    "print(meanDiffRandomNoise)"
   ]
  },
  {
   "cell_type": "code",
   "execution_count": 29,
   "id": "8c921b19-74ab-4e3b-86d5-610947474b7c",
   "metadata": {},
   "outputs": [],
   "source": [
    "AccuracySneakyRandom1 = pd.read_csv('data/label_skew/sneaky_random/fl_mnist/Weight/DelphiflZeroTrust/DelphiflZeroTrustSneakyRandomSeed123/in_domain_mean_acc.csv') "
   ]
  },
  {
   "cell_type": "code",
   "execution_count": 30,
   "id": "3f812f79-54e7-4e22-b4fd-368944be6469",
   "metadata": {},
   "outputs": [],
   "source": [
    "diffSneakyRandom1 = Accuracy - AccuracySneakyRandom1"
   ]
  },
  {
   "cell_type": "code",
   "execution_count": 31,
   "id": "fc5561dd-046f-43d8-b978-f0660c0fa514",
   "metadata": {},
   "outputs": [],
   "source": [
    "meanDiffSneakyRandom1 = diffSneakyRandom1.mean(axis=1)"
   ]
  },
  {
   "cell_type": "code",
   "execution_count": 32,
   "id": "c8f4aa99-c60b-4073-8c28-0afee8024b66",
   "metadata": {},
   "outputs": [
    {
     "name": "stdout",
     "output_type": "stream",
     "text": [
      "0    1.2323\n",
      "dtype: float64\n"
     ]
    }
   ],
   "source": [
    "print(meanDiffSneakyRandom1)"
   ]
  },
  {
   "cell_type": "code",
   "execution_count": null,
   "id": "618e9a8b-9396-4f50-986b-071aa83409d3",
   "metadata": {},
   "outputs": [],
   "source": []
  }
 ],
 "metadata": {
  "kernelspec": {
   "display_name": "Climate",
   "language": "python",
   "name": "climate"
  },
  "language_info": {
   "codemirror_mode": {
    "name": "ipython",
    "version": 3
   },
   "file_extension": ".py",
   "mimetype": "text/x-python",
   "name": "python",
   "nbconvert_exporter": "python",
   "pygments_lexer": "ipython3",
   "version": "3.12.3"
  }
 },
 "nbformat": 4,
 "nbformat_minor": 5
}
