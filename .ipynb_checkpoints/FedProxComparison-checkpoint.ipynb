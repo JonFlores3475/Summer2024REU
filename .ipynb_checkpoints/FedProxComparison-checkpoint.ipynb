{
 "cells": [
  {
   "cell_type": "code",
   "execution_count": 19,
   "id": "0c716c34-38c3-4d74-8c14-ee11f475f4d2",
   "metadata": {},
   "outputs": [],
   "source": [
    "import pandas as pd\n",
    "import numpy as np"
   ]
  },
  {
   "cell_type": "code",
   "execution_count": 20,
   "id": "3332b111-1294-43fa-8f40-ffc93aa85723",
   "metadata": {},
   "outputs": [],
   "source": [
    "Accuracy = pd.read_csv('data/label_skew/None/fl_mnist/Weight/FedProx/FedProxBenign/in_domain_mean_acc.csv')"
   ]
  },
  {
   "cell_type": "code",
   "execution_count": 21,
   "id": "2185f2c5-4eba-4b95-ae9f-2692a21bedf1",
   "metadata": {},
   "outputs": [],
   "source": [
    "meanAccuracy = Accuracy.mean(axis=1)"
   ]
  },
  {
   "cell_type": "code",
   "execution_count": 22,
   "id": "248dde47-45fd-4fc4-a5ee-6fa817dac0db",
   "metadata": {},
   "outputs": [
    {
     "name": "stdout",
     "output_type": "stream",
     "text": [
      "0    98.7982\n",
      "dtype: float64\n"
     ]
    }
   ],
   "source": [
    "print(meanAccuracy)"
   ]
  },
  {
   "cell_type": "code",
   "execution_count": 23,
   "id": "af655e2f-a926-4d6f-8d56-1e43a9315f1e",
   "metadata": {},
   "outputs": [],
   "source": [
    "AccuracyDelphiPairFlip = pd.read_csv('data/label_skew/PairFlip/fl_mnist/Weight/DelphiflZeroTrust/DelphiZeroTrustVersion1Seed123Pairflip/in_domain_mean_acc.csv')"
   ]
  },
  {
   "cell_type": "code",
   "execution_count": 24,
   "id": "f8f8199e-0391-4f33-b11c-4e7bb2ca4d60",
   "metadata": {},
   "outputs": [],
   "source": [
    "diffPair = Accuracy - AccuracyDelphiPairFlip"
   ]
  },
  {
   "cell_type": "code",
   "execution_count": 25,
   "id": "f9882dfd-3698-44fe-9490-22c156392615",
   "metadata": {},
   "outputs": [],
   "source": [
    "meanDiffDelphiPairFlip = diffPair.mean(axis=1)"
   ]
  },
  {
   "cell_type": "code",
   "execution_count": 26,
   "id": "dd9225c3-6c13-401e-9d17-727afcb34906",
   "metadata": {},
   "outputs": [
    {
     "name": "stdout",
     "output_type": "stream",
     "text": [
      "0    1.1166\n",
      "dtype: float64\n"
     ]
    }
   ],
   "source": [
    "print(meanDiffDelphiPairFlip)"
   ]
  },
  {
   "cell_type": "code",
   "execution_count": 27,
   "id": "fd65c72f-77f8-4629-ac16-ca8d6a9fce34",
   "metadata": {},
   "outputs": [],
   "source": [
    "AccuracyDelphiSymFlip = pd.read_csv('data/label_skew/SymFlip/fl_mnist/Weight/DelphiflZeroTrust/DelphiflZeroTrustSymFlipSeed123/in_domain_mean_acc.csv')"
   ]
  },
  {
   "cell_type": "code",
   "execution_count": 28,
   "id": "c9518c34-aef9-4be5-80e0-048ec8dbc765",
   "metadata": {},
   "outputs": [],
   "source": [
    "diffSym = Accuracy - AccuracyDelphiSymFlip"
   ]
  },
  {
   "cell_type": "code",
   "execution_count": 29,
   "id": "5d4cb656-6c79-4f72-b0fc-c853e3d182b7",
   "metadata": {},
   "outputs": [],
   "source": [
    "meanDiffDelphiSymFlip = diffSym.mean(axis=1)"
   ]
  },
  {
   "cell_type": "code",
   "execution_count": 30,
   "id": "ecc49f8c-3c90-43ea-9e4a-56dde2048f9b",
   "metadata": {},
   "outputs": [
    {
     "name": "stdout",
     "output_type": "stream",
     "text": [
      "0    1.0993\n",
      "dtype: float64\n"
     ]
    }
   ],
   "source": [
    "print(meanDiffDelphiSymFlip)"
   ]
  },
  {
   "cell_type": "code",
   "execution_count": 31,
   "id": "5c3041dc-62a7-4d26-9a1a-cbe4c2ddd2bd",
   "metadata": {},
   "outputs": [],
   "source": [
    "AccuracyDelphiLieAttack = pd.read_csv('data/label_skew/lie_attack/fl_mnist/Weight/DelphiflZeroTrust/DelphiflZeroTrustLieAttackSeed123/in_domain_mean_acc.csv')"
   ]
  },
  {
   "cell_type": "code",
   "execution_count": 32,
   "id": "fb828b3a-3d56-4c52-ac48-d8a06f553298",
   "metadata": {},
   "outputs": [],
   "source": [
    "diffLieAttack = Accuracy - AccuracyDelphiLieAttack"
   ]
  },
  {
   "cell_type": "code",
   "execution_count": 33,
   "id": "789ca392-1d27-4af1-bff7-0391a8e25f38",
   "metadata": {},
   "outputs": [],
   "source": [
    "meanDiffLieAttack = diffLieAttack.mean(axis=1)"
   ]
  },
  {
   "cell_type": "code",
   "execution_count": 34,
   "id": "2456710a-fdd2-42cf-adb2-a3f4c900990a",
   "metadata": {},
   "outputs": [
    {
     "name": "stdout",
     "output_type": "stream",
     "text": [
      "0    1.1971\n",
      "dtype: float64\n"
     ]
    }
   ],
   "source": [
    "print(meanDiffLieAttack)"
   ]
  },
  {
   "cell_type": "code",
   "execution_count": null,
   "id": "3891e511-d24b-44cf-b6c2-410e39e9aafb",
   "metadata": {},
   "outputs": [],
   "source": []
  }
 ],
 "metadata": {
  "kernelspec": {
   "display_name": "Climate",
   "language": "python",
   "name": "climate"
  },
  "language_info": {
   "codemirror_mode": {
    "name": "ipython",
    "version": 3
   },
   "file_extension": ".py",
   "mimetype": "text/x-python",
   "name": "python",
   "nbconvert_exporter": "python",
   "pygments_lexer": "ipython3",
   "version": "3.12.3"
  }
 },
 "nbformat": 4,
 "nbformat_minor": 5
}
