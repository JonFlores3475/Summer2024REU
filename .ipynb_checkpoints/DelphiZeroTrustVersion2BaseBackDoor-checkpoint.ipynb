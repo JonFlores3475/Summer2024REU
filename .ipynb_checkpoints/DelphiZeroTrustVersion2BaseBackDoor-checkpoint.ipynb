{
 "cells": [
  {
   "cell_type": "code",
   "execution_count": 2,
   "id": "6b310dd1-4250-40c7-a7fa-e6651872997f",
   "metadata": {},
   "outputs": [],
   "source": [
    "import pandas as pd\n",
    "import numpy as np"
   ]
  },
  {
   "cell_type": "code",
   "execution_count": 3,
   "id": "fd96244b-e1a3-4f55-ab60-e27818c33de0",
   "metadata": {},
   "outputs": [],
   "source": [
    "Attack = pd.read_csv('data/label_skew/base_backdoor/fl_mnist/Weight/DelphiflZeroTrustV2/DelphiZeroTrustV2BaseBackdoorSeed123/attack_success_rate_mean_acc.csv')"
   ]
  },
  {
   "cell_type": "code",
   "execution_count": 4,
   "id": "55ad67a8-0d53-4d29-939f-5ad8eba56974",
   "metadata": {},
   "outputs": [],
   "source": [
    "meanAttackSuccessRate = Attack.mean(axis = 1)"
   ]
  },
  {
   "cell_type": "code",
   "execution_count": 5,
   "id": "6014147c-d63f-488f-83a8-967029930ae6",
   "metadata": {},
   "outputs": [
    {
     "name": "stdout",
     "output_type": "stream",
     "text": [
      "0    10.2547\n",
      "dtype: float64\n"
     ]
    }
   ],
   "source": [
    "print (meanAttackSuccessRate)"
   ]
  },
  {
   "cell_type": "code",
   "execution_count": 6,
   "id": "4ffc299a-5dcf-4909-baec-c2a90dc9dda1",
   "metadata": {},
   "outputs": [],
   "source": [
    "Accuracy = pd.read_csv('data/label_skew/base_backdoor/fl_mnist/Weight/DelphiflZeroTrustV2/DelphiZeroTrustV2BaseBackdoorSeed123/in_domain_mean_acc.csv')"
   ]
  },
  {
   "cell_type": "code",
   "execution_count": 7,
   "id": "699aab07-25b2-42cf-8c1b-d37d611cda36",
   "metadata": {},
   "outputs": [],
   "source": [
    "meanAccuracy = Accuracy.mean(axis = 1)"
   ]
  },
  {
   "cell_type": "code",
   "execution_count": 8,
   "id": "db40e1d3-a219-4352-bd9d-2e2345df3b6c",
   "metadata": {},
   "outputs": [
    {
     "name": "stdout",
     "output_type": "stream",
     "text": [
      "0    97.7102\n",
      "dtype: float64\n"
     ]
    }
   ],
   "source": [
    "print(meanAccuracy)"
   ]
  },
  {
   "cell_type": "code",
   "execution_count": null,
   "id": "6203b9d8-bcd7-4003-b9c7-7b2e36cbe950",
   "metadata": {},
   "outputs": [],
   "source": []
  }
 ],
 "metadata": {
  "kernelspec": {
   "display_name": "Climate",
   "language": "python",
   "name": "climate"
  },
  "language_info": {
   "codemirror_mode": {
    "name": "ipython",
    "version": 3
   },
   "file_extension": ".py",
   "mimetype": "text/x-python",
   "name": "python",
   "nbconvert_exporter": "python",
   "pygments_lexer": "ipython3",
   "version": "3.12.3"
  }
 },
 "nbformat": 4,
 "nbformat_minor": 5
}
