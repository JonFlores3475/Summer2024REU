{
 "cells": [
  {
   "cell_type": "code",
   "execution_count": 1,
   "id": "852dc57e-dfad-445f-a12f-913594c4f549",
   "metadata": {},
   "outputs": [],
   "source": [
    "import pandas as pd\n",
    "import numpy as np"
   ]
  },
  {
   "cell_type": "code",
   "execution_count": 2,
   "id": "dcb300f0-8ad9-4683-a70f-8854cc81e43d",
   "metadata": {},
   "outputs": [],
   "source": [
    "Accuracy = pd.read_csv('data/label_skew/min_sum/fl_usps/Weight/FedProx/FedProxMinSumUSPSSeed123/in_domain_mean_acc.csv')"
   ]
  },
  {
   "cell_type": "code",
   "execution_count": 3,
   "id": "55d6642c-59b3-4831-a12e-d1e9637074e7",
   "metadata": {},
   "outputs": [],
   "source": [
    "meanAccuracy = Accuracy.mean(axis=1)"
   ]
  },
  {
   "cell_type": "code",
   "execution_count": 4,
   "id": "11476ed6-7be2-4b9d-8892-e79b455cb503",
   "metadata": {},
   "outputs": [
    {
     "name": "stdout",
     "output_type": "stream",
     "text": [
      "0    85.6385\n",
      "dtype: float64\n"
     ]
    }
   ],
   "source": [
    "print(meanAccuracy)"
   ]
  },
  {
   "cell_type": "code",
   "execution_count": null,
   "id": "8efb2876-6905-43ad-8933-78b50eb23a6f",
   "metadata": {},
   "outputs": [],
   "source": []
  }
 ],
 "metadata": {
  "kernelspec": {
   "display_name": "Climate",
   "language": "python",
   "name": "climate"
  },
  "language_info": {
   "codemirror_mode": {
    "name": "ipython",
    "version": 3
   },
   "file_extension": ".py",
   "mimetype": "text/x-python",
   "name": "python",
   "nbconvert_exporter": "python",
   "pygments_lexer": "ipython3",
   "version": "3.12.3"
  }
 },
 "nbformat": 4,
 "nbformat_minor": 5
}
