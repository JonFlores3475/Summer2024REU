{
 "cells": [
  {
   "cell_type": "code",
   "execution_count": 8,
   "id": "df404f9f-261e-4be8-99c3-4385f01cec4d",
   "metadata": {},
   "outputs": [],
   "source": [
    "import numpy as np\n",
    "import pandas as pd\n",
    "import matplotlib.pyplot as plt"
   ]
  },
  {
   "cell_type": "code",
   "execution_count": 9,
   "id": "fe5c1e17-fba0-43e7-969e-c9ec6834a77a",
   "metadata": {},
   "outputs": [],
   "source": [
    "AccuracyDelphiV1BaseLocal= pd.read_csv('data/label_skew/None/fl_mnist/Weight/DelphiflZeroTrust/DelphiZeroTrustBaseLocalNoAttackSeed123/in_domain_mean_acc.csv')"
   ]
  },
  {
   "cell_type": "code",
   "execution_count": 10,
   "id": "f1c35bbd-7f81-493f-ba30-b9745fce8f5b",
   "metadata": {},
   "outputs": [],
   "source": [
    "AccuracyDelphiV1FedProxLocal = pd.read_csv('data/label_skew/None/fl_mnist/Weight/DelphiflZeroTrust/DelphiflZeroTrustFedProxBenchSeed123/in_domain_mean_acc.csv')"
   ]
  },
  {
   "cell_type": "code",
   "execution_count": 11,
   "id": "45fb5793-d20e-48b5-83eb-3ca5ff473fcd",
   "metadata": {},
   "outputs": [],
   "source": [
    "AccuracyFedProxFedProxLocal = pd.read_csv('data/label_skew/None/fl_mnist/Weight/FedProx/FedProxBenign/in_domain_mean_acc.csv')"
   ]
  },
  {
   "cell_type": "code",
   "execution_count": 12,
   "id": "4c3111f7-5d58-41a0-a2f7-30038eacd3b5",
   "metadata": {},
   "outputs": [],
   "source": [
    "AccuracyDelphiV2BaseLocal= pd.read_csv('data/label_skew/None/fl_mnist/Weight/DelphiflZeroTrustV2/DelphiflZeroTrustV2BaseLocalNoAttack123/in_domain_mean_acc.csv')"
   ]
  },
  {
   "cell_type": "code",
   "execution_count": 13,
   "id": "ac17f99f-5a85-4a00-80da-deec7cdba52e",
   "metadata": {},
   "outputs": [],
   "source": [
    "AccuracyDelphiV2FedProxLocal= pd.read_csv('data/label_skew/None/fl_mnist/Weight/DelphiflZeroTrustV2/DelphiZeroTrustV2FedProxNoAttackSeed123/in_domain_mean_acc.csv')"
   ]
  },
  {
   "cell_type": "code",
   "execution_count": 42,
   "id": "747d019f-c84f-4317-b0ae-69a320016ddc",
   "metadata": {},
   "outputs": [],
   "source": [
    "x = np.linspace(0,99,100)"
   ]
  },
  {
   "cell_type": "code",
   "execution_count": 43,
   "id": "9a7d77b7-d67f-4320-af56-3c3bf61e5a5b",
   "metadata": {},
   "outputs": [
    {
     "name": "stdout",
     "output_type": "stream",
     "text": [
      "100 100\n"
     ]
    }
   ],
   "source": [
    "print(AccuracyDelphiV1BaseLocal.size, x.size)"
   ]
  },
  {
   "cell_type": "code",
   "execution_count": 50,
   "id": "1db8dc97-05e3-4b5f-a41c-dc972cd98c23",
   "metadata": {},
   "outputs": [
    {
     "ename": "SyntaxError",
     "evalue": "invalid syntax (57054375.py, line 6)",
     "output_type": "error",
     "traceback": [
      "\u001b[0;36m  Cell \u001b[0;32mIn[50], line 6\u001b[0;36m\u001b[0m\n\u001b[0;31m    plt.set_yscale('log')\u001b[0m\n\u001b[0m    ^\u001b[0m\n\u001b[0;31mSyntaxError\u001b[0m\u001b[0;31m:\u001b[0m invalid syntax\n"
     ]
    }
   ],
   "source": [
    "plt.scatter(x, AccuracyDelphiV1BaseLocal, label = 'AccuracyDelphiV1BaseLocal')\n",
    "plt.scatter(x, AccuracyDelphiV1FedProxLocal, label = 'AccuracyDelphiV1FedProxLocal')\n",
    "plt.scatter(x, AccuracyFedProxFedProxLocal, label = 'AccuracyFedProxFedProxLocal')\n",
    "plt.scatter(x, AccuracyDelphiV2BaseLocal, label = 'AccuracyDelphiV2BaseLocal')\n",
    "plt.scatter(x, AccuracyDelphiV2FedProxLocal, label = 'AccuracyDelphiV2FedProxLocal')\\\n",
    "plt.set_yscale('log')\n",
    "plt.legend()\n",
    "plt.show()"
   ]
  },
  {
   "cell_type": "code",
   "execution_count": null,
   "id": "265dda25-d4ae-4ef7-a185-c4586b0d3d0d",
   "metadata": {},
   "outputs": [],
   "source": []
  }
 ],
 "metadata": {
  "kernelspec": {
   "display_name": "Climate",
   "language": "python",
   "name": "climate"
  },
  "language_info": {
   "codemirror_mode": {
    "name": "ipython",
    "version": 3
   },
   "file_extension": ".py",
   "mimetype": "text/x-python",
   "name": "python",
   "nbconvert_exporter": "python",
   "pygments_lexer": "ipython3",
   "version": "3.12.3"
  }
 },
 "nbformat": 4,
 "nbformat_minor": 5
}
