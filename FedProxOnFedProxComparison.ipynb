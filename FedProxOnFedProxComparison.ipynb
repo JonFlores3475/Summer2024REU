{
 "cells": [
  {
   "cell_type": "code",
   "execution_count": 1,
   "id": "0c716c34-38c3-4d74-8c14-ee11f475f4d2",
   "metadata": {},
   "outputs": [],
   "source": [
    "import pandas as pd\n",
    "import numpy as np"
   ]
  },
  {
   "cell_type": "code",
   "execution_count": 2,
   "id": "3332b111-1294-43fa-8f40-ffc93aa85723",
   "metadata": {},
   "outputs": [],
   "source": [
    "Accuracy = pd.read_csv('data/label_skew/None/fl_mnist/Weight/FedProx/FedProxBenign/in_domain_mean_acc.csv')"
   ]
  },
  {
   "cell_type": "code",
   "execution_count": 3,
   "id": "2185f2c5-4eba-4b95-ae9f-2692a21bedf1",
   "metadata": {},
   "outputs": [],
   "source": [
    "meanAccuracy = Accuracy.mean(axis=1)"
   ]
  },
  {
   "cell_type": "code",
   "execution_count": 4,
   "id": "248dde47-45fd-4fc4-a5ee-6fa817dac0db",
   "metadata": {},
   "outputs": [
    {
     "name": "stdout",
     "output_type": "stream",
     "text": [
      "0    98.7982\n",
      "dtype: float64\n"
     ]
    }
   ],
   "source": [
    "print(meanAccuracy)"
   ]
  },
  {
   "cell_type": "code",
   "execution_count": 5,
   "id": "af655e2f-a926-4d6f-8d56-1e43a9315f1e",
   "metadata": {},
   "outputs": [],
   "source": [
    "AccuracyPairFlip = pd.read_csv('data/label_skew/PairFlip/fl_mnist/Weight/FedProx/FedProxPairFlipSeed123/in_domain_mean_acc.csv')"
   ]
  },
  {
   "cell_type": "code",
   "execution_count": 6,
   "id": "51fe3c02-ed28-4279-b6b4-290b4bb2fdaf",
   "metadata": {},
   "outputs": [],
   "source": [
    "diffPairFlip = Accuracy - AccuracyPairFlip"
   ]
  },
  {
   "cell_type": "code",
   "execution_count": 7,
   "id": "8257bcc2-c259-494f-8f3b-bc9719abd000",
   "metadata": {},
   "outputs": [],
   "source": [
    "meanDiffPairFlip = diffPairFlip.mean(axis=1)"
   ]
  },
  {
   "cell_type": "code",
   "execution_count": 8,
   "id": "49f59882-bc80-4051-8f99-958792d2d633",
   "metadata": {},
   "outputs": [
    {
     "name": "stdout",
     "output_type": "stream",
     "text": [
      "0    0.1178\n",
      "dtype: float64\n"
     ]
    }
   ],
   "source": [
    "print(meanDiffPairFlip)"
   ]
  },
  {
   "cell_type": "code",
   "execution_count": 9,
   "id": "cacd3de0-c5cb-41f8-8fbe-7848cb1f321f",
   "metadata": {},
   "outputs": [],
   "source": [
    "AccuracySymFlip = pd.read_csv('data/label_skew/SymFlip/fl_mnist/Weight/FedProx/FedProxSymFlipSeed123/in_domain_mean_acc.csv')"
   ]
  },
  {
   "cell_type": "code",
   "execution_count": 10,
   "id": "7e3c4427-50b8-4893-899b-9ec41fb9f34e",
   "metadata": {},
   "outputs": [],
   "source": [
    "diffSymFlip = Accuracy - AccuracySymFlip"
   ]
  },
  {
   "cell_type": "code",
   "execution_count": 11,
   "id": "77526921-126a-4853-b047-fdfa960ef044",
   "metadata": {},
   "outputs": [],
   "source": [
    "meanDiffSymFlip = diffSymFlip.mean(axis=1)"
   ]
  },
  {
   "cell_type": "code",
   "execution_count": 12,
   "id": "47d86ab9-ffe2-4751-9311-0acdb1a1b2e4",
   "metadata": {},
   "outputs": [
    {
     "name": "stdout",
     "output_type": "stream",
     "text": [
      "0    0.2251\n",
      "dtype: float64\n"
     ]
    }
   ],
   "source": [
    "print(meanDiffSymFlip)"
   ]
  },
  {
   "cell_type": "code",
   "execution_count": 13,
   "id": "802e13a6-38b2-45b4-ab15-e8b55c90885f",
   "metadata": {},
   "outputs": [],
   "source": [
    "AccuracyRandomNoise = pd.read_csv('data/label_skew/RandomNoise/fl_mnist/Weight/FedProx/FedProxRandomNoiseSeed123/in_domain_mean_acc.csv')"
   ]
  },
  {
   "cell_type": "code",
   "execution_count": 14,
   "id": "059e3114-cfc0-4702-95df-2e5ddca65d44",
   "metadata": {},
   "outputs": [],
   "source": [
    "diffRandomNoise = Accuracy - AccuracyRandomNoise"
   ]
  },
  {
   "cell_type": "code",
   "execution_count": 15,
   "id": "23cd1013-965b-4e60-bc73-8df804bac202",
   "metadata": {},
   "outputs": [],
   "source": [
    "meanDiffRandomNoise = diffRandomNoise.mean(axis=1)"
   ]
  },
  {
   "cell_type": "code",
   "execution_count": 16,
   "id": "857b3908-d23e-4b40-86df-93d1c7db5b4e",
   "metadata": {},
   "outputs": [
    {
     "name": "stdout",
     "output_type": "stream",
     "text": [
      "0    0.6841\n",
      "dtype: float64\n"
     ]
    }
   ],
   "source": [
    "print(meanDiffRandomNoise)"
   ]
  },
  {
   "cell_type": "code",
   "execution_count": 17,
   "id": "2eceee9d-db05-455b-a643-109dad7851ca",
   "metadata": {},
   "outputs": [],
   "source": [
    "AccuracyLieAttack = pd.read_csv('data/label_skew/lie_attack/fl_mnist/Weight/FedProx/FedProxLieAttackSeed123/in_domain_mean_acc.csv')"
   ]
  },
  {
   "cell_type": "code",
   "execution_count": 18,
   "id": "670e3a59-3d9d-4355-b02b-9d880fb6bdcb",
   "metadata": {},
   "outputs": [],
   "source": [
    "diffLieAttack = Accuracy - AccuracyLieAttack"
   ]
  },
  {
   "cell_type": "code",
   "execution_count": 19,
   "id": "f6d769a3-f3df-4d86-87fc-51b6cea4697a",
   "metadata": {},
   "outputs": [],
   "source": [
    "meanDiffLieAttack = diffLieAttack.mean(axis=1)"
   ]
  },
  {
   "cell_type": "code",
   "execution_count": 20,
   "id": "fca21f29-8ac6-4de3-95a0-71bb695ff5f8",
   "metadata": {},
   "outputs": [
    {
     "name": "stdout",
     "output_type": "stream",
     "text": [
      "0    0.4982\n",
      "dtype: float64\n"
     ]
    }
   ],
   "source": [
    "print(meanDiffLieAttack)"
   ]
  },
  {
   "cell_type": "code",
   "execution_count": 21,
   "id": "af96eedf-0cd2-4a86-8b63-c2401bef5e06",
   "metadata": {},
   "outputs": [],
   "source": [
    "AccuracyMinMax = pd.read_csv('data/label_skew/min_max/fl_mnist/Weight/FedProx/FedProxMinMaxSeed123/in_domain_mean_acc.csv')"
   ]
  },
  {
   "cell_type": "code",
   "execution_count": 22,
   "id": "f3fa0b52-d64d-45a2-99c0-14560a6f6db2",
   "metadata": {},
   "outputs": [],
   "source": [
    "diffMinMax = Accuracy - AccuracyMinMax"
   ]
  },
  {
   "cell_type": "code",
   "execution_count": 23,
   "id": "ec94a2ed-78e0-4de3-9934-d727298f608d",
   "metadata": {},
   "outputs": [],
   "source": [
    "meanDiffMinMax = diffMinMax.mean(axis=1)"
   ]
  },
  {
   "cell_type": "code",
   "execution_count": 24,
   "id": "8b4db467-7bbd-4e8a-be49-9f5cf948bab3",
   "metadata": {},
   "outputs": [
    {
     "name": "stdout",
     "output_type": "stream",
     "text": [
      "0    0.667\n",
      "dtype: float64\n"
     ]
    }
   ],
   "source": [
    "print(meanDiffMinMax)"
   ]
  },
  {
   "cell_type": "code",
   "execution_count": 25,
   "id": "113bdee8-4f25-4279-90f0-c177cf953c12",
   "metadata": {},
   "outputs": [],
   "source": [
    "AccuracyMinSum = pd.read_csv('data/label_skew/min_sum/fl_mnist/Weight/FedProx/FedProxMinSumSeed123/in_domain_mean_acc.csv')"
   ]
  },
  {
   "cell_type": "code",
   "execution_count": 26,
   "id": "67ab76a6-a1cf-440d-9d22-bf3a30d947f8",
   "metadata": {},
   "outputs": [],
   "source": [
    "diffMinSum = Accuracy - AccuracyMinSum"
   ]
  },
  {
   "cell_type": "code",
   "execution_count": 27,
   "id": "14897977-f990-4900-bcc8-b20301129ba0",
   "metadata": {},
   "outputs": [],
   "source": [
    "meanDiffMinSum = diffMinSum.mean(axis=1)"
   ]
  },
  {
   "cell_type": "code",
   "execution_count": 28,
   "id": "0da46740-5773-458d-b41e-56e1289f5dd7",
   "metadata": {},
   "outputs": [
    {
     "name": "stdout",
     "output_type": "stream",
     "text": [
      "0    0.5669\n",
      "dtype: float64\n"
     ]
    }
   ],
   "source": [
    "print(meanDiffMinSum)"
   ]
  },
  {
   "cell_type": "code",
   "execution_count": 29,
   "id": "b97113ff-f46c-4fad-b498-05b1446b01d8",
   "metadata": {},
   "outputs": [],
   "source": [
    "AccuracySneakyRandom = pd.read_csv('data/label_skew/sneaky_random/fl_mnist/Weight/FedProx/FedProxSneakyRandomSeed123/in_domain_mean_acc.csv')"
   ]
  },
  {
   "cell_type": "code",
   "execution_count": 30,
   "id": "862d649c-50f1-4fd0-b433-24c4b15a5167",
   "metadata": {},
   "outputs": [],
   "source": [
    "diffSneakyRandom = Accuracy - AccuracySneakyRandom"
   ]
  },
  {
   "cell_type": "code",
   "execution_count": 31,
   "id": "3fd3956a-a247-4b1e-8739-bbf482c2d51e",
   "metadata": {},
   "outputs": [],
   "source": [
    "meanDiffSneakyRandom = diffSneakyRandom.mean(axis=1)"
   ]
  },
  {
   "cell_type": "code",
   "execution_count": 32,
   "id": "79bdd203-98fb-4c92-b5cd-eecf98a3cae6",
   "metadata": {},
   "outputs": [
    {
     "name": "stdout",
     "output_type": "stream",
     "text": [
      "0    0.1238\n",
      "dtype: float64\n"
     ]
    }
   ],
   "source": [
    "print(meanDiffSneakyRandom)"
   ]
  },
  {
   "cell_type": "code",
   "execution_count": 33,
   "id": "74c95cbb-e0b5-43b6-807e-c26962db7e26",
   "metadata": {},
   "outputs": [],
   "source": [
    "AccuracySneakyRandom2 = pd.read_csv('data/label_skew/sneaky_random2/fl_mnist/Weight/FedProx/FedProxSneakyRandom2Seed123/in_domain_mean_acc.csv')"
   ]
  },
  {
   "cell_type": "code",
   "execution_count": 34,
   "id": "9301aba8-a31a-4fa0-84bf-2785c12e9f23",
   "metadata": {},
   "outputs": [],
   "source": [
    "diffSneakyRandom2 = Accuracy - AccuracySneakyRandom2"
   ]
  },
  {
   "cell_type": "code",
   "execution_count": 35,
   "id": "d8ff4908-35c3-461e-9e9d-025247e82885",
   "metadata": {},
   "outputs": [],
   "source": [
    "meanDiffSneakyRandom2 = diffSneakyRandom2.mean(axis=1)"
   ]
  },
  {
   "cell_type": "code",
   "execution_count": 36,
   "id": "fbf09661-06a4-48d3-9f7d-e33dcd210a1a",
   "metadata": {},
   "outputs": [
    {
     "name": "stdout",
     "output_type": "stream",
     "text": [
      "0    0.1229\n",
      "dtype: float64\n"
     ]
    }
   ],
   "source": [
    "print(meanDiffSneakyRandom2)"
   ]
  },
  {
   "cell_type": "code",
   "execution_count": 37,
   "id": "91860989-eabb-4bca-b78e-89370fdcfc02",
   "metadata": {},
   "outputs": [],
   "source": [
    "AccuracySneakyRandom3 = pd.read_csv('data/label_skew/sneaky_random3/fl_mnist/Weight/FedProx/FedProxSneakyRandom3Seed123/in_domain_mean_acc.csv')"
   ]
  },
  {
   "cell_type": "code",
   "execution_count": 38,
   "id": "eecd54df-fd35-4557-816a-95632edb2449",
   "metadata": {},
   "outputs": [],
   "source": [
    "diffSneakyRandom3 = Accuracy - AccuracySneakyRandom3"
   ]
  },
  {
   "cell_type": "code",
   "execution_count": 39,
   "id": "7009fdfc-1232-4b82-b3bd-089c9e03b323",
   "metadata": {},
   "outputs": [],
   "source": [
    "meanDiffSneakyRandom3 = diffSneakyRandom3.mean(axis=1)"
   ]
  },
  {
   "cell_type": "code",
   "execution_count": 40,
   "id": "9570c554-3f3a-4462-8bb3-96e510be4b70",
   "metadata": {},
   "outputs": [
    {
     "name": "stdout",
     "output_type": "stream",
     "text": [
      "0    0.7084\n",
      "dtype: float64\n"
     ]
    }
   ],
   "source": [
    "print(meanDiffSneakyRandom3)"
   ]
  },
  {
   "cell_type": "code",
   "execution_count": 43,
   "id": "3ad604ff-9202-4fa1-827c-da70a996878b",
   "metadata": {},
   "outputs": [],
   "source": [
    "AccuracySneakyRandom4 = pd.read_csv('data/label_skew/sneaky_random4/fl_mnist/Weight/FedProx/FedProxSneakyRandom4Seed123/in_domain_mean_acc.csv')"
   ]
  },
  {
   "cell_type": "code",
   "execution_count": 44,
   "id": "35ae488c-f10a-4158-9ae4-bd612927c723",
   "metadata": {},
   "outputs": [],
   "source": [
    "diffSneakyRandom4 = Accuracy - AccuracySneakyRandom4"
   ]
  },
  {
   "cell_type": "code",
   "execution_count": 45,
   "id": "febb4cc1-92bf-4a74-87cb-0c877e3b15b0",
   "metadata": {},
   "outputs": [],
   "source": [
    "meanDiffSneakyRandom4 = diffSneakyRandom4.mean(axis=1)"
   ]
  },
  {
   "cell_type": "code",
   "execution_count": 46,
   "id": "d3331299-4f1d-48c4-a49a-707f4dd44bd8",
   "metadata": {},
   "outputs": [
    {
     "name": "stdout",
     "output_type": "stream",
     "text": [
      "0    1.5516\n",
      "dtype: float64\n"
     ]
    }
   ],
   "source": [
    "print(meanDiffSneakyRandom4)"
   ]
  },
  {
   "cell_type": "code",
   "execution_count": 47,
   "id": "74b29607-2896-48a9-ab8c-d19c54c5910a",
   "metadata": {},
   "outputs": [],
   "source": [
    "AccuracySneakyRandom5 = pd.read_csv('data/label_skew/sneaky_random5/fl_mnist/Weight/FedProx/FedProxSneakyRandom5Seed123/in_domain_mean_acc.csv')"
   ]
  },
  {
   "cell_type": "code",
   "execution_count": 48,
   "id": "424708ad-e1ea-4b66-964f-37efa520abe1",
   "metadata": {},
   "outputs": [],
   "source": [
    "diffSneakyRandom5 = Accuracy - AccuracySneakyRandom5"
   ]
  },
  {
   "cell_type": "code",
   "execution_count": 49,
   "id": "ec9f777c-86a6-4a98-9ff0-6fb04facad18",
   "metadata": {},
   "outputs": [],
   "source": [
    "meanDiffSneakyRandom5 = diffSneakyRandom5.mean(axis=1)"
   ]
  },
  {
   "cell_type": "code",
   "execution_count": 50,
   "id": "f3b23a9f-fe2b-4712-b9f2-200a5ddf8e15",
   "metadata": {},
   "outputs": [
    {
     "name": "stdout",
     "output_type": "stream",
     "text": [
      "0    0.0707\n",
      "dtype: float64\n"
     ]
    }
   ],
   "source": [
    "print(meanDiffSneakyRandom5)"
   ]
  },
  {
   "cell_type": "code",
   "execution_count": 53,
   "id": "4ef502fa-988c-4753-a122-4c993f6cc841",
   "metadata": {},
   "outputs": [],
   "source": [
    "AccuracyInvertedGradient = pd.read_csv('data/label_skew/inverted_gradient/fl_mnist/Weight/FedProx/FedProxInvertedGradientSeed123/in_domain_mean_acc.csv')"
   ]
  },
  {
   "cell_type": "code",
   "execution_count": 54,
   "id": "b0a5f16f-faef-43af-909a-ad6d896ae9ad",
   "metadata": {},
   "outputs": [],
   "source": [
    "diffAccuracyInvertedGradient = Accuracy - AccuracyInvertedGradient"
   ]
  },
  {
   "cell_type": "code",
   "execution_count": 56,
   "id": "c15f8072-763d-4566-be6e-11d17121c023",
   "metadata": {},
   "outputs": [],
   "source": [
    "meanDiffAccuracyInvertedGradient = diffAccuracyInvertedGradient.mean(axis=1)"
   ]
  },
  {
   "cell_type": "code",
   "execution_count": 57,
   "id": "017a6d61-c126-443b-84d1-84e6e44365d5",
   "metadata": {},
   "outputs": [
    {
     "name": "stdout",
     "output_type": "stream",
     "text": [
      "0    0.2009\n",
      "dtype: float64\n"
     ]
    }
   ],
   "source": [
    "print(meanDiffAccuracyInvertedGradient)"
   ]
  },
  {
   "cell_type": "code",
   "execution_count": 58,
   "id": "96eb8aed-8ac7-4085-ac32-bbcba51f6b3c",
   "metadata": {},
   "outputs": [],
   "source": [
    "AccuracyGaussImages= pd.read_csv('data/label_skew/gaus_images/fl_mnist/Weight/FedProx/FedProxGausImagesSeed123/in_domain_mean_acc.csv')"
   ]
  },
  {
   "cell_type": "code",
   "execution_count": 59,
   "id": "2a39f237-4ed5-48c0-afc4-d9d1ec3c15d5",
   "metadata": {},
   "outputs": [],
   "source": [
    "diffAccuracyGaussImages = Accuracy - AccuracyGaussImages"
   ]
  },
  {
   "cell_type": "code",
   "execution_count": 60,
   "id": "ee90cf45-f82e-4e13-9eb0-eb578acac97a",
   "metadata": {},
   "outputs": [],
   "source": [
    "meanDiffAccuracyGaussImages = diffAccuracyGaussImages.mean(axis=1)"
   ]
  },
  {
   "cell_type": "code",
   "execution_count": 61,
   "id": "f21526c0-543f-403d-bc50-921bae9ae9cf",
   "metadata": {},
   "outputs": [
    {
     "name": "stdout",
     "output_type": "stream",
     "text": [
      "0    1.0054\n",
      "dtype: float64\n"
     ]
    }
   ],
   "source": [
    "print(meanDiffAccuracyGaussImages)"
   ]
  },
  {
   "cell_type": "code",
   "execution_count": 62,
   "id": "b01fb7c2-6a42-4a95-8c18-a443f3053ae0",
   "metadata": {},
   "outputs": [],
   "source": [
    "AccuracyAtropos = pd.read_csv('data/label_skew/inverted_gradient/fl_mnist/Weight/FedProx/FedProxAtroposSeed123/in_domain_mean_acc.csv')"
   ]
  },
  {
   "cell_type": "code",
   "execution_count": 65,
   "id": "8a110981-c1fc-4ead-86de-bb5f3cea03b8",
   "metadata": {},
   "outputs": [],
   "source": [
    "diffAccuracyAtropos = Accuracy - AccuracyAtropos"
   ]
  },
  {
   "cell_type": "code",
   "execution_count": 66,
   "id": "a85d038b-13d6-4a23-80b4-2b495567c36a",
   "metadata": {},
   "outputs": [],
   "source": [
    "meanDiffAtropos = diffAccuracyAtropos.mean(axis=1)"
   ]
  },
  {
   "cell_type": "code",
   "execution_count": 68,
   "id": "7aa3a9bf-df47-470b-9776-150d5d7ea293",
   "metadata": {},
   "outputs": [
    {
     "name": "stdout",
     "output_type": "stream",
     "text": [
      "0    0.1208\n",
      "dtype: float64\n"
     ]
    }
   ],
   "source": [
    "print(meanDiffAtropos)"
   ]
  },
  {
   "cell_type": "code",
   "execution_count": null,
   "id": "51dfab12-ab08-47c7-ae4c-4738e3161b5d",
   "metadata": {},
   "outputs": [],
   "source": []
  }
 ],
 "metadata": {
  "kernelspec": {
   "display_name": "Climate",
   "language": "python",
   "name": "climate"
  },
  "language_info": {
   "codemirror_mode": {
    "name": "ipython",
    "version": 3
   },
   "file_extension": ".py",
   "mimetype": "text/x-python",
   "name": "python",
   "nbconvert_exporter": "python",
   "pygments_lexer": "ipython3",
   "version": "3.12.3"
  }
 },
 "nbformat": 4,
 "nbformat_minor": 5
}
