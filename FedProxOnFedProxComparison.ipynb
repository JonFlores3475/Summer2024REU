{
 "cells": [
  {
   "cell_type": "code",
   "execution_count": 1,
   "id": "0c716c34-38c3-4d74-8c14-ee11f475f4d2",
   "metadata": {},
   "outputs": [],
   "source": [
    "import pandas as pd\n",
    "import numpy as np"
   ]
  },
  {
   "cell_type": "code",
   "execution_count": 2,
   "id": "3332b111-1294-43fa-8f40-ffc93aa85723",
   "metadata": {},
   "outputs": [],
   "source": [
    "Accuracy = pd.read_csv('data/label_skew/None/fl_mnist/Weight/FedProx/FedProxBenign/in_domain_mean_acc.csv')"
   ]
  },
  {
   "cell_type": "code",
   "execution_count": 3,
   "id": "2185f2c5-4eba-4b95-ae9f-2692a21bedf1",
   "metadata": {},
   "outputs": [],
   "source": [
    "meanAccuracy = Accuracy.mean(axis=1)"
   ]
  },
  {
   "cell_type": "code",
   "execution_count": 4,
   "id": "248dde47-45fd-4fc4-a5ee-6fa817dac0db",
   "metadata": {},
   "outputs": [
    {
     "name": "stdout",
     "output_type": "stream",
     "text": [
      "0    98.7982\n",
      "dtype: float64\n"
     ]
    }
   ],
   "source": [
    "print(meanAccuracy)"
   ]
  },
  {
   "cell_type": "code",
   "execution_count": 5,
   "id": "af655e2f-a926-4d6f-8d56-1e43a9315f1e",
   "metadata": {},
   "outputs": [],
   "source": [
    "AccuracyPairFlip = pd.read_csv('data/label_skew/PairFlip/fl_mnist/Weight/FedProx/FedProxPairFlipSeed123/in_domain_mean_acc.csv')"
   ]
  },
  {
   "cell_type": "code",
   "execution_count": 6,
   "id": "51fe3c02-ed28-4279-b6b4-290b4bb2fdaf",
   "metadata": {},
   "outputs": [],
   "source": [
    "diffPairFlip = Accuracy - AccuracyPairFlip"
   ]
  },
  {
   "cell_type": "code",
   "execution_count": 7,
   "id": "8257bcc2-c259-494f-8f3b-bc9719abd000",
   "metadata": {},
   "outputs": [],
   "source": [
    "meanDiffPairFlip = diffPairFlip.mean(axis=1)"
   ]
  },
  {
   "cell_type": "code",
   "execution_count": 8,
   "id": "49f59882-bc80-4051-8f99-958792d2d633",
   "metadata": {},
   "outputs": [
    {
     "name": "stdout",
     "output_type": "stream",
     "text": [
      "0    0.1178\n",
      "dtype: float64\n"
     ]
    }
   ],
   "source": [
    "print(meanDiffPairFlip)"
   ]
  },
  {
   "cell_type": "code",
   "execution_count": 9,
   "id": "cacd3de0-c5cb-41f8-8fbe-7848cb1f321f",
   "metadata": {},
   "outputs": [],
   "source": [
    "AccuracySymFlip = pd.read_csv('data/label_skew/SymFlip/fl_mnist/Weight/FedProx/FedProxSymFlipSeed123/in_domain_mean_acc.csv')"
   ]
  },
  {
   "cell_type": "code",
   "execution_count": 10,
   "id": "7e3c4427-50b8-4893-899b-9ec41fb9f34e",
   "metadata": {},
   "outputs": [],
   "source": [
    "diffSymFlip = Accuracy - AccuracySymFlip"
   ]
  },
  {
   "cell_type": "code",
   "execution_count": 11,
   "id": "77526921-126a-4853-b047-fdfa960ef044",
   "metadata": {},
   "outputs": [],
   "source": [
    "meanDiffSymFlip = diffSymFlip.mean(axis=1)"
   ]
  },
  {
   "cell_type": "code",
   "execution_count": 12,
   "id": "47d86ab9-ffe2-4751-9311-0acdb1a1b2e4",
   "metadata": {},
   "outputs": [
    {
     "name": "stdout",
     "output_type": "stream",
     "text": [
      "0    0.2251\n",
      "dtype: float64\n"
     ]
    }
   ],
   "source": [
    "print(meanDiffSymFlip)"
   ]
  },
  {
   "cell_type": "code",
   "execution_count": 13,
   "id": "802e13a6-38b2-45b4-ab15-e8b55c90885f",
   "metadata": {},
   "outputs": [],
   "source": [
    "AccuracyRandomNoise = pd.read_csv('data/label_skew/RandomNoise/fl_mnist/Weight/FedProx/FedProxRandomNoiseSeed123/in_domain_mean_acc.csv')"
   ]
  },
  {
   "cell_type": "code",
   "execution_count": 14,
   "id": "059e3114-cfc0-4702-95df-2e5ddca65d44",
   "metadata": {},
   "outputs": [],
   "source": [
    "diffRandomNoise = Accuracy - AccuracyRandomNoise"
   ]
  },
  {
   "cell_type": "code",
   "execution_count": 15,
   "id": "23cd1013-965b-4e60-bc73-8df804bac202",
   "metadata": {},
   "outputs": [],
   "source": [
    "meanDiffRandomNoise = diffRandomNoise.mean(axis=1)"
   ]
  },
  {
   "cell_type": "code",
   "execution_count": 16,
   "id": "857b3908-d23e-4b40-86df-93d1c7db5b4e",
   "metadata": {},
   "outputs": [
    {
     "name": "stdout",
     "output_type": "stream",
     "text": [
      "0    0.6841\n",
      "dtype: float64\n"
     ]
    }
   ],
   "source": [
    "print(meanDiffRandomNoise)"
   ]
  },
  {
   "cell_type": "code",
   "execution_count": 19,
   "id": "2eceee9d-db05-455b-a643-109dad7851ca",
   "metadata": {},
   "outputs": [],
   "source": [
    "AccuracyLieAttack = pd.read_csv('data/label_skew/lie_attack/fl_mnist/Weight/FedProx/FedProxLieAttackSeed123/in_domain_mean_acc.csv')"
   ]
  },
  {
   "cell_type": "code",
   "execution_count": 20,
   "id": "670e3a59-3d9d-4355-b02b-9d880fb6bdcb",
   "metadata": {},
   "outputs": [],
   "source": [
    "diffLieAttack = Accuracy - AccuracyLieAttack"
   ]
  },
  {
   "cell_type": "code",
   "execution_count": 21,
   "id": "f6d769a3-f3df-4d86-87fc-51b6cea4697a",
   "metadata": {},
   "outputs": [],
   "source": [
    "meanDiffLieAttack = diffLieAttack.mean(axis=1)"
   ]
  },
  {
   "cell_type": "code",
   "execution_count": 22,
   "id": "fca21f29-8ac6-4de3-95a0-71bb695ff5f8",
   "metadata": {},
   "outputs": [
    {
     "name": "stdout",
     "output_type": "stream",
     "text": [
      "0    0.4982\n",
      "dtype: float64\n"
     ]
    }
   ],
   "source": [
    "print(meanDiffLieAttack)"
   ]
  },
  {
   "cell_type": "code",
   "execution_count": 23,
   "id": "af96eedf-0cd2-4a86-8b63-c2401bef5e06",
   "metadata": {},
   "outputs": [],
   "source": [
    "AccuracyMinMax = pd.read_csv('data/label_skew/min_max/fl_mnist/Weight/FedProx/FedProxMinMaxSeed123/in_domain_mean_acc.csv')"
   ]
  },
  {
   "cell_type": "code",
   "execution_count": 24,
   "id": "f3fa0b52-d64d-45a2-99c0-14560a6f6db2",
   "metadata": {},
   "outputs": [],
   "source": [
    "diffMinMax = Accuracy - AccuracyMinMax"
   ]
  },
  {
   "cell_type": "code",
   "execution_count": 25,
   "id": "ec94a2ed-78e0-4de3-9934-d727298f608d",
   "metadata": {},
   "outputs": [],
   "source": [
    "meanDiffMinMax = diffMinMax.mean(axis=1)"
   ]
  },
  {
   "cell_type": "code",
   "execution_count": 26,
   "id": "8b4db467-7bbd-4e8a-be49-9f5cf948bab3",
   "metadata": {},
   "outputs": [
    {
     "name": "stdout",
     "output_type": "stream",
     "text": [
      "0    0.667\n",
      "dtype: float64\n"
     ]
    }
   ],
   "source": [
    "print(meanDiffMinMax)"
   ]
  },
  {
   "cell_type": "code",
   "execution_count": 28,
   "id": "113bdee8-4f25-4279-90f0-c177cf953c12",
   "metadata": {},
   "outputs": [],
   "source": [
    "AccuracyMinSum = pd.read_csv('data/label_skew/min_sum/fl_mnist/Weight/FedProx/FedProxMinSumSeed123/in_domain_mean_acc.csv')"
   ]
  },
  {
   "cell_type": "code",
   "execution_count": 29,
   "id": "67ab76a6-a1cf-440d-9d22-bf3a30d947f8",
   "metadata": {},
   "outputs": [],
   "source": [
    "diffMinSum = Accuracy - AccuracyMinSum"
   ]
  },
  {
   "cell_type": "code",
   "execution_count": 30,
   "id": "14897977-f990-4900-bcc8-b20301129ba0",
   "metadata": {},
   "outputs": [],
   "source": [
    "meanDiffMinSum = diffMinSum.mean(axis=1)"
   ]
  },
  {
   "cell_type": "code",
   "execution_count": 31,
   "id": "0da46740-5773-458d-b41e-56e1289f5dd7",
   "metadata": {},
   "outputs": [
    {
     "name": "stdout",
     "output_type": "stream",
     "text": [
      "0    0.5669\n",
      "dtype: float64\n"
     ]
    }
   ],
   "source": [
    "print(meanDiffMinSum)"
   ]
  },
  {
   "cell_type": "code",
   "execution_count": 32,
   "id": "b97113ff-f46c-4fad-b498-05b1446b01d8",
   "metadata": {},
   "outputs": [],
   "source": [
    "AccuracySneakyRandom = pd.read_csv('data/label_skew/sneaky_random/fl_mnist/Weight/FedProx/FedProxSneakyRandomSeed123/in_domain_mean_acc.csv')"
   ]
  },
  {
   "cell_type": "code",
   "execution_count": 33,
   "id": "862d649c-50f1-4fd0-b433-24c4b15a5167",
   "metadata": {},
   "outputs": [],
   "source": [
    "diffSneakyRandom = Accuracy - AccuracySneakyRandom"
   ]
  },
  {
   "cell_type": "code",
   "execution_count": 34,
   "id": "3fd3956a-a247-4b1e-8739-bbf482c2d51e",
   "metadata": {},
   "outputs": [],
   "source": [
    "meanDiffSneakyRandom = diffSneakyRandom.mean(axis=1)"
   ]
  },
  {
   "cell_type": "code",
   "execution_count": 35,
   "id": "79bdd203-98fb-4c92-b5cd-eecf98a3cae6",
   "metadata": {},
   "outputs": [
    {
     "name": "stdout",
     "output_type": "stream",
     "text": [
      "0    0.1238\n",
      "dtype: float64\n"
     ]
    }
   ],
   "source": [
    "print(meanDiffSneakyRandom)"
   ]
  },
  {
   "cell_type": "code",
   "execution_count": null,
   "id": "74c95cbb-e0b5-43b6-807e-c26962db7e26",
   "metadata": {},
   "outputs": [],
   "source": []
  }
 ],
 "metadata": {
  "kernelspec": {
   "display_name": "Climate",
   "language": "python",
   "name": "climate"
  },
  "language_info": {
   "codemirror_mode": {
    "name": "ipython",
    "version": 3
   },
   "file_extension": ".py",
   "mimetype": "text/x-python",
   "name": "python",
   "nbconvert_exporter": "python",
   "pygments_lexer": "ipython3",
   "version": "3.12.3"
  }
 },
 "nbformat": 4,
 "nbformat_minor": 5
}
